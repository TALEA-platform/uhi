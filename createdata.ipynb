{
 "cells": [
  {
   "cell_type": "markdown",
   "id": "c1bf6293",
   "metadata": {},
   "source": [
    "# Urban Heat Island Analysis – Bologna\n",
    "\n",
    "This notebook performs a comprehensive geospatial analysis to identify and classify Urban Heat Island (UHI) effects in the city of Bologna, Italy, using satellite data and derived indices.\n",
    "\n",
    "## Process Overview\n",
    "\n",
    "###  Index Summary\n",
    "\n",
    "All files are saved in both `.tif` and `.geojson` formats, clipped to the Bologna boundary.\n",
    "\n",
    "| Index | Description | File name (no extension) |\n",
    "|-------|-------------|----------------------------|\n",
    "| **LST** | Land Surface Temperature derived from Landsat ST_B10 | lst_mean |\n",
    "| **Z-score of LST** | Standardized anomaly of LST to detect relative hot/cold zones | z_score |\n",
    "| **NDVI** | Normalized Difference Vegetation Index from bands B4/B5 | ndvi_mean |\n",
    "| **Albedo** | Surface reflectivity index (Liang, 2001) using bands B2-B7 | albedo_mean |\n",
    "| **Heat-Vegetation Index** | LST_norm – NDVI_norm, shows lack of vegetative cooling | heat_veg_index |\n",
    "| **Heat Retention Index** | LST_norm – Albedo_norm, shows capacity to retain heat | heat_retention_index |\n",
    "| **MODIS ΔLST** | Day-Night temperature difference from MODIS | delta_lst |\n",
    "| **ΔLST Classes** | Classification of ΔLST: high, medium, low delta | delta_lst_class |\n",
    "| **Urban Heat Exposure Index (UHEI)** | Composite index: LST + (1 – NDVI) + (1 – Albedo) | urban_heat_exposure_index | Composite index: LST + (1 – NDVI) + (1 – Albedo) | urban_heat_exposure_index |\n",
    "\n",
    "1. **Load AOI (Bologna)** from precise administrative boundary (GeoJSON)\n",
    "2. **Retrieve satellite datasets**:\n",
    "   - **Landsat 8/9 SR** for LST, NDVI, and Albedo (summer 2024)\n",
    "   - **MODIS LST** for day/night surface temperature (summer 2024)\n",
    "3. **Calculate indices**:\n",
    "   - **LST (Land Surface Temperature)**: from ST_B10 (Landsat)\n",
    "   - **Z-score of LST**: statistical anomaly per pixel\n",
    "   - **NDVI**: vegetation index from SR_B4 and SR_B5\n",
    "   - **Albedo**: surface reflectance from SR_B2, B4, B5, B6, B7 using Liang (2001) coefficients [1]\n",
    "   - **Heat-Vegetation Index**: LST norm – NDVI norm\n",
    "   - **Heat Retention Index**: LST norm – Albedo norm\n",
    "   - **MODIS ΔLST (Day – Night)** and its classification\n",
    "   - **Urban Heat Exposure Index (UHEI)**: composite score LST + (1 – NDVI) + (1 – Albedo)\n",
    "4. **Classify and export outputs**:\n",
    "   - Classify Z-score, Albedo, ΔLST\n",
    "   - Export all outputs as raster and GeoJSON (dissolved)\n",
    "\n",
    "📚 **Reference**\n",
    "\n",
    "[1] Liang, S. (2001). *Narrowband to broadband conversions of land surface albedo I: Algorithms*. Remote Sensing of Environment, 76(2), 213–238.  \n",
    "https://doi.org/10.1016/S0034-4257(00)00205-4"
   ]
  },
  {
   "cell_type": "code",
   "execution_count": 4,
   "id": "bcdb2a83",
   "metadata": {},
   "outputs": [
    {
     "data": {
      "text/html": [
       "\n",
       "            <style>\n",
       "                .geemap-dark {\n",
       "                    --jp-widgets-color: white;\n",
       "                    --jp-widgets-label-color: white;\n",
       "                    --jp-ui-font-color1: white;\n",
       "                    --jp-layout-color2: #454545;\n",
       "                    background-color: #383838;\n",
       "                }\n",
       "\n",
       "                .geemap-dark .jupyter-button {\n",
       "                    --jp-layout-color3: #383838;\n",
       "                }\n",
       "\n",
       "                .geemap-colab {\n",
       "                    background-color: var(--colab-primary-surface-color, white);\n",
       "                }\n",
       "\n",
       "                .geemap-colab .jupyter-button {\n",
       "                    --jp-layout-color3: var(--colab-primary-surface-color, white);\n",
       "                }\n",
       "            </style>\n",
       "            "
      ],
      "text/plain": [
       "<IPython.core.display.HTML object>"
      ]
     },
     "metadata": {},
     "output_type": "display_data"
    }
   ],
   "source": [
    "import ee\n",
    "import os\n",
    "import geemap\n",
    "import geopandas as gpd\n",
    "import numpy as np\n",
    "import pandas as pd\n",
    "import matplotlib.pyplot as plt\n",
    "import seaborn as sns\n",
    "import rasterio\n",
    "from rasterio import features\n",
    "from shapely.geometry import shape\n",
    "from shapely.ops import unary_union\n",
    "import json\n",
    "from shapely.geometry import MultiPolygon\n",
    "from rasterio.features import shapes\n",
    "from shapely.geometry import MultiPolygon\n",
    "from shapely.ops import unary_union, polygonize\n",
    "import maplibre\n",
    "from ipyleaflet import Map, GeoJSON, LayersControl, WidgetControl\n",
    "from ipywidgets import HTML\n"
   ]
  },
  {
   "cell_type": "code",
   "execution_count": 14,
   "id": "8f82476b",
   "metadata": {},
   "outputs": [
    {
     "data": {
      "text/html": [
       "\n",
       "            <style>\n",
       "                .geemap-dark {\n",
       "                    --jp-widgets-color: white;\n",
       "                    --jp-widgets-label-color: white;\n",
       "                    --jp-ui-font-color1: white;\n",
       "                    --jp-layout-color2: #454545;\n",
       "                    background-color: #383838;\n",
       "                }\n",
       "\n",
       "                .geemap-dark .jupyter-button {\n",
       "                    --jp-layout-color3: #383838;\n",
       "                }\n",
       "\n",
       "                .geemap-colab {\n",
       "                    background-color: var(--colab-primary-surface-color, white);\n",
       "                }\n",
       "\n",
       "                .geemap-colab .jupyter-button {\n",
       "                    --jp-layout-color3: var(--colab-primary-surface-color, white);\n",
       "                }\n",
       "            </style>\n",
       "            "
      ],
      "text/plain": [
       "<IPython.core.display.HTML object>"
      ]
     },
     "metadata": {},
     "output_type": "display_data"
    }
   ],
   "source": [
    "DATADIR=\"data\"\n",
    "os.makedirs(DATADIR, exist_ok=True)\n",
    "BOUNDARIES = \"bologna_borders.geojson\"\n",
    "YEAR= \"2024\"\n",
    "GEPROJECT= 'ndvi-423516'"
   ]
  },
  {
   "cell_type": "code",
   "execution_count": 6,
   "id": "0e033c51",
   "metadata": {},
   "outputs": [
    {
     "data": {
      "text/html": [
       "\n",
       "            <style>\n",
       "                .geemap-dark {\n",
       "                    --jp-widgets-color: white;\n",
       "                    --jp-widgets-label-color: white;\n",
       "                    --jp-ui-font-color1: white;\n",
       "                    --jp-layout-color2: #454545;\n",
       "                    background-color: #383838;\n",
       "                }\n",
       "\n",
       "                .geemap-dark .jupyter-button {\n",
       "                    --jp-layout-color3: #383838;\n",
       "                }\n",
       "\n",
       "                .geemap-colab {\n",
       "                    background-color: var(--colab-primary-surface-color, white);\n",
       "                }\n",
       "\n",
       "                .geemap-colab .jupyter-button {\n",
       "                    --jp-layout-color3: var(--colab-primary-surface-color, white);\n",
       "                }\n",
       "            </style>\n",
       "            "
      ],
      "text/plain": [
       "<IPython.core.display.HTML object>"
      ]
     },
     "metadata": {},
     "output_type": "display_data"
    }
   ],
   "source": [
    "def kelvin_to_celsius(img):\n",
    "    return img.select(\"ST_B10\").multiply(0.00341802).add(149.0).subtract(273.15).rename(\"LST\")"
   ]
  },
  {
   "cell_type": "code",
   "execution_count": 7,
   "id": "47d19b1a",
   "metadata": {},
   "outputs": [
    {
     "data": {
      "text/html": [
       "\n",
       "            <style>\n",
       "                .geemap-dark {\n",
       "                    --jp-widgets-color: white;\n",
       "                    --jp-widgets-label-color: white;\n",
       "                    --jp-ui-font-color1: white;\n",
       "                    --jp-layout-color2: #454545;\n",
       "                    background-color: #383838;\n",
       "                }\n",
       "\n",
       "                .geemap-dark .jupyter-button {\n",
       "                    --jp-layout-color3: #383838;\n",
       "                }\n",
       "\n",
       "                .geemap-colab {\n",
       "                    background-color: var(--colab-primary-surface-color, white);\n",
       "                }\n",
       "\n",
       "                .geemap-colab .jupyter-button {\n",
       "                    --jp-layout-color3: var(--colab-primary-surface-color, white);\n",
       "                }\n",
       "            </style>\n",
       "            "
      ],
      "text/plain": [
       "<IPython.core.display.HTML object>"
      ]
     },
     "metadata": {},
     "output_type": "display_data"
    }
   ],
   "source": [
    "def compute_ndvi(img):\n",
    "    sr = img.select([\"SR_B5\", \"SR_B4\"]).multiply(0.0000275).add(-0.2)\n",
    "    ndvi = sr.normalizedDifference([\"SR_B5\", \"SR_B4\"]).rename(\"NDVI\")\n",
    "    return img.addBands(ndvi)"
   ]
  },
  {
   "cell_type": "code",
   "execution_count": 8,
   "id": "6aca4576",
   "metadata": {},
   "outputs": [
    {
     "data": {
      "text/html": [
       "\n",
       "            <style>\n",
       "                .geemap-dark {\n",
       "                    --jp-widgets-color: white;\n",
       "                    --jp-widgets-label-color: white;\n",
       "                    --jp-ui-font-color1: white;\n",
       "                    --jp-layout-color2: #454545;\n",
       "                    background-color: #383838;\n",
       "                }\n",
       "\n",
       "                .geemap-dark .jupyter-button {\n",
       "                    --jp-layout-color3: #383838;\n",
       "                }\n",
       "\n",
       "                .geemap-colab {\n",
       "                    background-color: var(--colab-primary-surface-color, white);\n",
       "                }\n",
       "\n",
       "                .geemap-colab .jupyter-button {\n",
       "                    --jp-layout-color3: var(--colab-primary-surface-color, white);\n",
       "                }\n",
       "            </style>\n",
       "            "
      ],
      "text/plain": [
       "<IPython.core.display.HTML object>"
      ]
     },
     "metadata": {},
     "output_type": "display_data"
    }
   ],
   "source": [
    "def compute_albedo(img):\n",
    "    sr = img.multiply(0.0000275).add(-0.2)\n",
    "    b2 = sr.select(\"SR_B2\")\n",
    "    b4 = sr.select(\"SR_B4\")\n",
    "    b5 = sr.select(\"SR_B5\")\n",
    "    b6 = sr.select(\"SR_B6\")\n",
    "    b7 = sr.select(\"SR_B7\")\n",
    "    albedo = (b2.multiply(0.356)\n",
    "                .add(b4.multiply(0.130))\n",
    "                .add(b5.multiply(0.373))\n",
    "                .add(b6.multiply(0.085))\n",
    "                .add(b7.multiply(0.072))\n",
    "                .subtract(0.0018))\n",
    "    return img.addBands(albedo.rename(\"Albedo\"))"
   ]
  },
  {
   "cell_type": "code",
   "execution_count": 9,
   "id": "f8706aaa",
   "metadata": {},
   "outputs": [
    {
     "data": {
      "text/html": [
       "\n",
       "            <style>\n",
       "                .geemap-dark {\n",
       "                    --jp-widgets-color: white;\n",
       "                    --jp-widgets-label-color: white;\n",
       "                    --jp-ui-font-color1: white;\n",
       "                    --jp-layout-color2: #454545;\n",
       "                    background-color: #383838;\n",
       "                }\n",
       "\n",
       "                .geemap-dark .jupyter-button {\n",
       "                    --jp-layout-color3: #383838;\n",
       "                }\n",
       "\n",
       "                .geemap-colab {\n",
       "                    background-color: var(--colab-primary-surface-color, white);\n",
       "                }\n",
       "\n",
       "                .geemap-colab .jupyter-button {\n",
       "                    --jp-layout-color3: var(--colab-primary-surface-color, white);\n",
       "                }\n",
       "            </style>\n",
       "            "
      ],
      "text/plain": [
       "<IPython.core.display.HTML object>"
      ]
     },
     "metadata": {},
     "output_type": "display_data"
    }
   ],
   "source": [
    "def raster_to_dissolved_geojson(raster_path, geojson_path):\n",
    "    with rasterio.open(raster_path) as src:\n",
    "        image = src.read(1)\n",
    "        mask = image != src.nodata\n",
    "        results = (\n",
    "            {'properties': {'value': str(v)}, 'geometry': shape(s)}\n",
    "            for s, v in shapes(image, mask=mask, transform=src.transform)\n",
    "        )\n",
    "        gdf = gpd.GeoDataFrame.from_features(list(results), crs=src.crs)\n",
    "        gdf = gdf.dissolve(by='value').reset_index()\n",
    "       \n",
    "        # Clip to Bologna boundary\n",
    "        boundary = gpd.read_file(BOUNDARIES).to_crs(gdf.crs)\n",
    "        gdf = gpd.overlay(gdf, boundary, how='intersection')\n",
    "\n",
    "        gdf.to_file(geojson_path, driver='GeoJSON')"
   ]
  },
  {
   "cell_type": "markdown",
   "id": "9b2b697e",
   "metadata": {},
   "source": [
    "## Load AOI \n",
    "Load precise municipal boundary of Bologna from local GeoJSON<br/>\n",
    "Required for spatial clipping of all datasets\n"
   ]
  },
  {
   "cell_type": "code",
   "execution_count": 10,
   "id": "e7830ef6",
   "metadata": {},
   "outputs": [
    {
     "data": {
      "text/html": [
       "\n",
       "            <style>\n",
       "                .geemap-dark {\n",
       "                    --jp-widgets-color: white;\n",
       "                    --jp-widgets-label-color: white;\n",
       "                    --jp-ui-font-color1: white;\n",
       "                    --jp-layout-color2: #454545;\n",
       "                    background-color: #383838;\n",
       "                }\n",
       "\n",
       "                .geemap-dark .jupyter-button {\n",
       "                    --jp-layout-color3: #383838;\n",
       "                }\n",
       "\n",
       "                .geemap-colab {\n",
       "                    background-color: var(--colab-primary-surface-color, white);\n",
       "                }\n",
       "\n",
       "                .geemap-colab .jupyter-button {\n",
       "                    --jp-layout-color3: var(--colab-primary-surface-color, white);\n",
       "                }\n",
       "            </style>\n",
       "            "
      ],
      "text/plain": [
       "<IPython.core.display.HTML object>"
      ]
     },
     "metadata": {},
     "output_type": "display_data"
    }
   ],
   "source": [
    "collectdata = False\n",
    "gdf = gpd.read_file(BOUNDARIES).to_crs(\"EPSG:4326\")\n",
    "\n"
   ]
  },
  {
   "cell_type": "markdown",
   "id": "d7cb9de6",
   "metadata": {},
   "source": [
    "# Data Preparation\n",
    "## Extract data from Google Earth Engine\n"
   ]
  },
  {
   "cell_type": "code",
   "execution_count": 11,
   "id": "b7ff433a",
   "metadata": {},
   "outputs": [
    {
     "data": {
      "text/html": [
       "\n",
       "            <style>\n",
       "                .geemap-dark {\n",
       "                    --jp-widgets-color: white;\n",
       "                    --jp-widgets-label-color: white;\n",
       "                    --jp-ui-font-color1: white;\n",
       "                    --jp-layout-color2: #454545;\n",
       "                    background-color: #383838;\n",
       "                }\n",
       "\n",
       "                .geemap-dark .jupyter-button {\n",
       "                    --jp-layout-color3: #383838;\n",
       "                }\n",
       "\n",
       "                .geemap-colab {\n",
       "                    background-color: var(--colab-primary-surface-color, white);\n",
       "                }\n",
       "\n",
       "                .geemap-colab .jupyter-button {\n",
       "                    --jp-layout-color3: var(--colab-primary-surface-color, white);\n",
       "                }\n",
       "            </style>\n",
       "            "
      ],
      "text/plain": [
       "<IPython.core.display.HTML object>"
      ]
     },
     "metadata": {},
     "output_type": "display_data"
    }
   ],
   "source": [
    "if not os.path.exists(DATADIR + os.sep + 'lst_mean.tif'):\n",
    "    collectdata = True"
   ]
  },
  {
   "cell_type": "code",
   "execution_count": 12,
   "id": "425aa326",
   "metadata": {},
   "outputs": [
    {
     "data": {
      "text/html": [
       "\n",
       "            <style>\n",
       "                .geemap-dark {\n",
       "                    --jp-widgets-color: white;\n",
       "                    --jp-widgets-label-color: white;\n",
       "                    --jp-ui-font-color1: white;\n",
       "                    --jp-layout-color2: #454545;\n",
       "                    background-color: #383838;\n",
       "                }\n",
       "\n",
       "                .geemap-dark .jupyter-button {\n",
       "                    --jp-layout-color3: #383838;\n",
       "                }\n",
       "\n",
       "                .geemap-colab {\n",
       "                    background-color: var(--colab-primary-surface-color, white);\n",
       "                }\n",
       "\n",
       "                .geemap-colab .jupyter-button {\n",
       "                    --jp-layout-color3: var(--colab-primary-surface-color, white);\n",
       "                }\n",
       "            </style>\n",
       "            "
      ],
      "text/plain": [
       "<IPython.core.display.HTML object>"
      ]
     },
     "metadata": {},
     "output_type": "display_data"
    }
   ],
   "source": [
    "if collectdata:\n",
    "    ee.Authenticate()\n",
    "    ee.Initialize(project=GEPROJECT)    \n",
    "    bologna_fc = geemap.geopandas_to_ee(gdf)\n",
    "    bologna_geom = bologna_fc.geometry()"
   ]
  },
  {
   "cell_type": "markdown",
   "id": "2b9eb27e",
   "metadata": {},
   "source": [
    "\n",
    "# Calculate Urban Heat Exposure Index (UHEI): LST + (1-NDVI) + (1-Albedo)\n",
    "- This composite score highlights areas with high temperature, low vegetation, and low albedo\n",
    "- Normalization ranges: LST (30–50°C), NDVI (0–0.8), Albedo (0.05–0.35)\n",
    "- Higher UHEI → higher exposure to urban heat conditions"
   ]
  },
  {
   "cell_type": "markdown",
   "id": "2d5df726",
   "metadata": {},
   "source": [
    "## Retrieve MODIS LST (Day/Night) from MOD11A1 – Summer 2024 \n",
    "MODIS Terra (MOD11A1) provides daily 1 km LST for day and night<br/>\n",
    "We'll calculate the difference between day and night to assess heat retention"
   ]
  },
  {
   "cell_type": "code",
   "execution_count": 13,
   "id": "1f973f56",
   "metadata": {},
   "outputs": [
    {
     "data": {
      "text/html": [
       "\n",
       "            <style>\n",
       "                .geemap-dark {\n",
       "                    --jp-widgets-color: white;\n",
       "                    --jp-widgets-label-color: white;\n",
       "                    --jp-ui-font-color1: white;\n",
       "                    --jp-layout-color2: #454545;\n",
       "                    background-color: #383838;\n",
       "                }\n",
       "\n",
       "                .geemap-dark .jupyter-button {\n",
       "                    --jp-layout-color3: #383838;\n",
       "                }\n",
       "\n",
       "                .geemap-colab {\n",
       "                    background-color: var(--colab-primary-surface-color, white);\n",
       "                }\n",
       "\n",
       "                .geemap-colab .jupyter-button {\n",
       "                    --jp-layout-color3: var(--colab-primary-surface-color, white);\n",
       "                }\n",
       "            </style>\n",
       "            "
      ],
      "text/plain": [
       "<IPython.core.display.HTML object>"
      ]
     },
     "metadata": {},
     "output_type": "display_data"
    },
    {
     "ename": "EEException",
     "evalue": "Earth Engine client library not initialized. See http://goo.gle/ee-auth.",
     "output_type": "error",
     "traceback": [
      "\u001b[0;31m---------------------------------------------------------------------------\u001b[0m",
      "\u001b[0;31mEEException\u001b[0m                               Traceback (most recent call last)",
      "Cell \u001b[0;32mIn[13], line 1\u001b[0m\n\u001b[0;32m----> 1\u001b[0m modis \u001b[38;5;241m=\u001b[39m \u001b[43mee\u001b[49m\u001b[38;5;241;43m.\u001b[39;49m\u001b[43mImageCollection\u001b[49m\u001b[43m(\u001b[49m\u001b[38;5;124;43m\"\u001b[39;49m\u001b[38;5;124;43mMODIS/061/MOD11A1\u001b[39;49m\u001b[38;5;124;43m\"\u001b[39;49m\u001b[43m)\u001b[49m \\\n\u001b[1;32m      2\u001b[0m     \u001b[38;5;241m.\u001b[39mfilterBounds(bologna_geom) \\\n\u001b[1;32m      3\u001b[0m     \u001b[38;5;241m.\u001b[39mfilterDate(YEAR\u001b[38;5;241m+\u001b[39m\u001b[38;5;124m\"\u001b[39m\u001b[38;5;124m-06-01\u001b[39m\u001b[38;5;124m\"\u001b[39m, YEAR\u001b[38;5;241m+\u001b[39m\u001b[38;5;124m\"\u001b[39m\u001b[38;5;124m-08-31\u001b[39m\u001b[38;5;124m\"\u001b[39m)\n",
      "File \u001b[0;32m~/.local/lib/python3.13/site-packages/ee/computedobject.py:28\u001b[0m, in \u001b[0;36mComputedObjectMetaclass.__call__\u001b[0;34m(cls, *args, **kwargs)\u001b[0m\n\u001b[1;32m     26\u001b[0m   \u001b[38;5;28;01mreturn\u001b[39;00m args[\u001b[38;5;241m0\u001b[39m]\n\u001b[1;32m     27\u001b[0m \u001b[38;5;28;01melse\u001b[39;00m:\n\u001b[0;32m---> 28\u001b[0m   \u001b[38;5;28;01mreturn\u001b[39;00m \u001b[38;5;28;43mtype\u001b[39;49m\u001b[38;5;241;43m.\u001b[39;49m\u001b[38;5;21;43m__call__\u001b[39;49m\u001b[43m(\u001b[49m\u001b[38;5;28;43mcls\u001b[39;49m\u001b[43m,\u001b[49m\u001b[43m \u001b[49m\u001b[38;5;241;43m*\u001b[39;49m\u001b[43margs\u001b[49m\u001b[43m,\u001b[49m\u001b[43m \u001b[49m\u001b[38;5;241;43m*\u001b[39;49m\u001b[38;5;241;43m*\u001b[39;49m\u001b[43mkwargs\u001b[49m\u001b[43m)\u001b[49m\n",
      "File \u001b[0;32m~/.local/lib/python3.13/site-packages/ee/deprecation.py:124\u001b[0m, in \u001b[0;36mWarnForDeprecatedAsset.<locals>.Decorator.<locals>.Wrapper\u001b[0;34m(*args, **kwargs)\u001b[0m\n\u001b[1;32m    122\u001b[0m   \u001b[38;5;28;01mif\u001b[39;00m asset:\n\u001b[1;32m    123\u001b[0m     _IssueAssetDeprecationWarning(asset)\n\u001b[0;32m--> 124\u001b[0m \u001b[38;5;28;01mreturn\u001b[39;00m \u001b[43mfunc\u001b[49m\u001b[43m(\u001b[49m\u001b[38;5;241;43m*\u001b[39;49m\u001b[43margs\u001b[49m\u001b[43m,\u001b[49m\u001b[43m \u001b[49m\u001b[38;5;241;43m*\u001b[39;49m\u001b[38;5;241;43m*\u001b[39;49m\u001b[43mkwargs\u001b[49m\u001b[43m)\u001b[49m\n",
      "File \u001b[0;32m~/.local/lib/python3.13/site-packages/ee/imagecollection.py:45\u001b[0m, in \u001b[0;36mImageCollection.__init__\u001b[0;34m(self, args)\u001b[0m\n\u001b[1;32m     30\u001b[0m \u001b[38;5;129m@deprecation\u001b[39m\u001b[38;5;241m.\u001b[39mWarnForDeprecatedAsset(\u001b[38;5;124m'\u001b[39m\u001b[38;5;124margs\u001b[39m\u001b[38;5;124m'\u001b[39m)\n\u001b[1;32m     31\u001b[0m \u001b[38;5;28;01mdef\u001b[39;00m \u001b[38;5;21m__init__\u001b[39m(\u001b[38;5;28mself\u001b[39m, args: Any):\n\u001b[1;32m     32\u001b[0m \u001b[38;5;250m  \u001b[39m\u001b[38;5;124;03m\"\"\"ImageCollection constructor.\u001b[39;00m\n\u001b[1;32m     33\u001b[0m \n\u001b[1;32m     34\u001b[0m \u001b[38;5;124;03m  Args:\u001b[39;00m\n\u001b[0;32m   (...)\u001b[0m\n\u001b[1;32m     43\u001b[0m \u001b[38;5;124;03m    EEException: if passed something other than the above.\u001b[39;00m\n\u001b[1;32m     44\u001b[0m \u001b[38;5;124;03m  \"\"\"\u001b[39;00m\n\u001b[0;32m---> 45\u001b[0m   \u001b[38;5;28;43mself\u001b[39;49m\u001b[38;5;241;43m.\u001b[39;49m\u001b[43minitialize\u001b[49m\u001b[43m(\u001b[49m\u001b[43m)\u001b[49m\n\u001b[1;32m     47\u001b[0m   \u001b[38;5;66;03m# Wrap single images in an array.\u001b[39;00m\n\u001b[1;32m     48\u001b[0m   \u001b[38;5;28;01mif\u001b[39;00m \u001b[38;5;28misinstance\u001b[39m(args, image\u001b[38;5;241m.\u001b[39mImage):\n",
      "File \u001b[0;32m~/.local/lib/python3.13/site-packages/ee/imagecollection.py:79\u001b[0m, in \u001b[0;36mImageCollection.initialize\u001b[0;34m(cls)\u001b[0m\n\u001b[1;32m     77\u001b[0m \u001b[38;5;250m\u001b[39m\u001b[38;5;124;03m\"\"\"Imports API functions to this class.\"\"\"\u001b[39;00m\n\u001b[1;32m     78\u001b[0m \u001b[38;5;28;01mif\u001b[39;00m \u001b[38;5;129;01mnot\u001b[39;00m \u001b[38;5;28mcls\u001b[39m\u001b[38;5;241m.\u001b[39m_initialized:\n\u001b[0;32m---> 79\u001b[0m   \u001b[38;5;28;43msuper\u001b[39;49m\u001b[43m(\u001b[49m\u001b[43m)\u001b[49m\u001b[38;5;241;43m.\u001b[39;49m\u001b[43minitialize\u001b[49m\u001b[43m(\u001b[49m\u001b[43m)\u001b[49m\n\u001b[1;32m     80\u001b[0m   apifunction\u001b[38;5;241m.\u001b[39mApiFunction\u001b[38;5;241m.\u001b[39mimportApi(\u001b[38;5;28mcls\u001b[39m, \u001b[38;5;28mcls\u001b[39m\u001b[38;5;241m.\u001b[39mname(), \u001b[38;5;28mcls\u001b[39m\u001b[38;5;241m.\u001b[39mname())\n\u001b[1;32m     81\u001b[0m   apifunction\u001b[38;5;241m.\u001b[39mApiFunction\u001b[38;5;241m.\u001b[39mimportApi(\u001b[38;5;28mcls\u001b[39m, \u001b[38;5;124m'\u001b[39m\u001b[38;5;124mreduce\u001b[39m\u001b[38;5;124m'\u001b[39m, \u001b[38;5;28mcls\u001b[39m\u001b[38;5;241m.\u001b[39mname())\n",
      "File \u001b[0;32m~/.local/lib/python3.13/site-packages/ee/collection.py:50\u001b[0m, in \u001b[0;36mCollection.initialize\u001b[0;34m(cls)\u001b[0m\n\u001b[1;32m     48\u001b[0m \u001b[38;5;250m\u001b[39m\u001b[38;5;124;03m\"\"\"Imports API functions to this class.\"\"\"\u001b[39;00m\n\u001b[1;32m     49\u001b[0m \u001b[38;5;28;01mif\u001b[39;00m \u001b[38;5;129;01mnot\u001b[39;00m \u001b[38;5;28mcls\u001b[39m\u001b[38;5;241m.\u001b[39m_initialized:\n\u001b[0;32m---> 50\u001b[0m   \u001b[43mapifunction\u001b[49m\u001b[38;5;241;43m.\u001b[39;49m\u001b[43mApiFunction\u001b[49m\u001b[38;5;241;43m.\u001b[39;49m\u001b[43mimportApi\u001b[49m\u001b[43m(\u001b[49m\u001b[38;5;28;43mcls\u001b[39;49m\u001b[43m,\u001b[49m\u001b[43m \u001b[49m\u001b[38;5;28;43mcls\u001b[39;49m\u001b[38;5;241;43m.\u001b[39;49m\u001b[43mname\u001b[49m\u001b[43m(\u001b[49m\u001b[43m)\u001b[49m\u001b[43m,\u001b[49m\u001b[43m \u001b[49m\u001b[38;5;28;43mcls\u001b[39;49m\u001b[38;5;241;43m.\u001b[39;49m\u001b[43mname\u001b[49m\u001b[43m(\u001b[49m\u001b[43m)\u001b[49m\u001b[43m)\u001b[49m\n\u001b[1;32m     51\u001b[0m   apifunction\u001b[38;5;241m.\u001b[39mApiFunction\u001b[38;5;241m.\u001b[39mimportApi(\n\u001b[1;32m     52\u001b[0m       \u001b[38;5;28mcls\u001b[39m, \u001b[38;5;124m'\u001b[39m\u001b[38;5;124mAggregateFeatureCollection\u001b[39m\u001b[38;5;124m'\u001b[39m, \u001b[38;5;28mcls\u001b[39m\u001b[38;5;241m.\u001b[39mname(), \u001b[38;5;124m'\u001b[39m\u001b[38;5;124maggregate_\u001b[39m\u001b[38;5;124m'\u001b[39m)\n\u001b[1;32m     53\u001b[0m   \u001b[38;5;28mcls\u001b[39m\u001b[38;5;241m.\u001b[39m_initialized \u001b[38;5;241m=\u001b[39m \u001b[38;5;28;01mTrue\u001b[39;00m\n",
      "File \u001b[0;32m~/.local/lib/python3.13/site-packages/ee/_utils.py:38\u001b[0m, in \u001b[0;36maccept_opt_prefix.<locals>.opt_fixed.<locals>.wrapper\u001b[0;34m(*args, **kwargs)\u001b[0m\n\u001b[1;32m     36\u001b[0m     \u001b[38;5;28;01mif\u001b[39;00m new_key \u001b[38;5;129;01mnot\u001b[39;00m \u001b[38;5;129;01min\u001b[39;00m kwargs:\n\u001b[1;32m     37\u001b[0m       kwargs[new_key] \u001b[38;5;241m=\u001b[39m old_key_val\n\u001b[0;32m---> 38\u001b[0m \u001b[38;5;28;01mreturn\u001b[39;00m \u001b[43mfunc\u001b[49m\u001b[43m(\u001b[49m\u001b[38;5;241;43m*\u001b[39;49m\u001b[43margs\u001b[49m\u001b[43m,\u001b[49m\u001b[43m \u001b[49m\u001b[38;5;241;43m*\u001b[39;49m\u001b[38;5;241;43m*\u001b[39;49m\u001b[43mkwargs\u001b[49m\u001b[43m)\u001b[49m\n",
      "File \u001b[0;32m~/.local/lib/python3.13/site-packages/ee/apifunction.py:197\u001b[0m, in \u001b[0;36mApiFunction.importApi\u001b[0;34m(cls, target, prefix, type_name, prepend)\u001b[0m\n\u001b[1;32m    177\u001b[0m \u001b[38;5;129m@classmethod\u001b[39m\n\u001b[1;32m    178\u001b[0m \u001b[38;5;129m@_utils\u001b[39m\u001b[38;5;241m.\u001b[39maccept_opt_prefix(\u001b[38;5;124m'\u001b[39m\u001b[38;5;124mopt_prepend\u001b[39m\u001b[38;5;124m'\u001b[39m)\n\u001b[1;32m    179\u001b[0m \u001b[38;5;28;01mdef\u001b[39;00m \u001b[38;5;21mimportApi\u001b[39m(\n\u001b[0;32m   (...)\u001b[0m\n\u001b[1;32m    184\u001b[0m     prepend: Optional[\u001b[38;5;28mstr\u001b[39m] \u001b[38;5;241m=\u001b[39m \u001b[38;5;28;01mNone\u001b[39;00m,\n\u001b[1;32m    185\u001b[0m ) \u001b[38;5;241m-\u001b[39m\u001b[38;5;241m>\u001b[39m \u001b[38;5;28;01mNone\u001b[39;00m:\n\u001b[1;32m    186\u001b[0m \u001b[38;5;250m  \u001b[39m\u001b[38;5;124;03m\"\"\"Adds all API functions that begin with a given prefix to a target class.\u001b[39;00m\n\u001b[1;32m    187\u001b[0m \n\u001b[1;32m    188\u001b[0m \u001b[38;5;124;03m  Args:\u001b[39;00m\n\u001b[0;32m   (...)\u001b[0m\n\u001b[1;32m    195\u001b[0m \u001b[38;5;124;03m      functions.\u001b[39;00m\n\u001b[1;32m    196\u001b[0m \u001b[38;5;124;03m  \"\"\"\u001b[39;00m\n\u001b[0;32m--> 197\u001b[0m   \u001b[38;5;28;43mcls\u001b[39;49m\u001b[38;5;241;43m.\u001b[39;49m\u001b[43minitialize\u001b[49m\u001b[43m(\u001b[49m\u001b[43m)\u001b[49m\n\u001b[1;32m    198\u001b[0m   prepend \u001b[38;5;241m=\u001b[39m prepend \u001b[38;5;129;01mor\u001b[39;00m \u001b[38;5;124m'\u001b[39m\u001b[38;5;124m'\u001b[39m\n\u001b[1;32m    199\u001b[0m   \u001b[38;5;28;01mfor\u001b[39;00m name, api_func \u001b[38;5;129;01min\u001b[39;00m \u001b[38;5;28mcls\u001b[39m\u001b[38;5;241m.\u001b[39m_api\u001b[38;5;241m.\u001b[39mitems():\n",
      "File \u001b[0;32m~/.local/lib/python3.13/site-packages/ee/apifunction.py:161\u001b[0m, in \u001b[0;36mApiFunction.initialize\u001b[0;34m(cls)\u001b[0m\n\u001b[1;32m    159\u001b[0m \u001b[38;5;250m\u001b[39m\u001b[38;5;124;03m\"\"\"Initializes the list of signatures from the Earth Engine front-end.\"\"\"\u001b[39;00m\n\u001b[1;32m    160\u001b[0m \u001b[38;5;28;01mif\u001b[39;00m \u001b[38;5;129;01mnot\u001b[39;00m \u001b[38;5;28mcls\u001b[39m\u001b[38;5;241m.\u001b[39m_api:\n\u001b[0;32m--> 161\u001b[0m   signatures \u001b[38;5;241m=\u001b[39m \u001b[43mdata\u001b[49m\u001b[38;5;241;43m.\u001b[39;49m\u001b[43mgetAlgorithms\u001b[49m\u001b[43m(\u001b[49m\u001b[43m)\u001b[49m\n\u001b[1;32m    162\u001b[0m   api \u001b[38;5;241m=\u001b[39m {}\n\u001b[1;32m    163\u001b[0m   \u001b[38;5;28;01mfor\u001b[39;00m name, sig \u001b[38;5;129;01min\u001b[39;00m signatures\u001b[38;5;241m.\u001b[39mitems():\n\u001b[1;32m    164\u001b[0m     \u001b[38;5;66;03m# Strip type parameters.\u001b[39;00m\n",
      "File \u001b[0;32m~/.local/lib/python3.13/site-packages/ee/data.py:1481\u001b[0m, in \u001b[0;36mgetAlgorithms\u001b[0;34m()\u001b[0m\n\u001b[1;32m   1464\u001b[0m \u001b[38;5;250m\u001b[39m\u001b[38;5;124;03m\"\"\"Get the list of algorithms.\u001b[39;00m\n\u001b[1;32m   1465\u001b[0m \n\u001b[1;32m   1466\u001b[0m \u001b[38;5;124;03mReturns:\u001b[39;00m\n\u001b[0;32m   (...)\u001b[0m\n\u001b[1;32m   1477\u001b[0m \u001b[38;5;124;03m              is not specified.\u001b[39;00m\n\u001b[1;32m   1478\u001b[0m \u001b[38;5;124;03m\"\"\"\u001b[39;00m\n\u001b[1;32m   1479\u001b[0m \u001b[38;5;28;01mtry\u001b[39;00m:\n\u001b[1;32m   1480\u001b[0m   call \u001b[38;5;241m=\u001b[39m (\n\u001b[0;32m-> 1481\u001b[0m       \u001b[43m_get_cloud_projects\u001b[49m\u001b[43m(\u001b[49m\u001b[43m)\u001b[49m\n\u001b[1;32m   1482\u001b[0m       \u001b[38;5;241m.\u001b[39malgorithms()\n\u001b[1;32m   1483\u001b[0m       \u001b[38;5;241m.\u001b[39mlist(parent\u001b[38;5;241m=\u001b[39m_get_projects_path(), prettyPrint\u001b[38;5;241m=\u001b[39m\u001b[38;5;28;01mFalse\u001b[39;00m)\n\u001b[1;32m   1484\u001b[0m   )\n\u001b[1;32m   1485\u001b[0m \u001b[38;5;28;01mexcept\u001b[39;00m \u001b[38;5;167;01mTypeError\u001b[39;00m:\n\u001b[1;32m   1486\u001b[0m   call \u001b[38;5;241m=\u001b[39m (\n\u001b[1;32m   1487\u001b[0m       _get_cloud_projects()\n\u001b[1;32m   1488\u001b[0m       \u001b[38;5;241m.\u001b[39malgorithms()\n\u001b[1;32m   1489\u001b[0m       \u001b[38;5;241m.\u001b[39mlist(project\u001b[38;5;241m=\u001b[39m_get_projects_path(), prettyPrint\u001b[38;5;241m=\u001b[39m\u001b[38;5;28;01mFalse\u001b[39;00m)\n\u001b[1;32m   1490\u001b[0m   )\n",
      "File \u001b[0;32m~/.local/lib/python3.13/site-packages/ee/data.py:352\u001b[0m, in \u001b[0;36m_get_cloud_projects\u001b[0;34m()\u001b[0m\n\u001b[1;32m    350\u001b[0m \u001b[38;5;28;01mdef\u001b[39;00m \u001b[38;5;21m_get_cloud_projects\u001b[39m() \u001b[38;5;241m-\u001b[39m\u001b[38;5;241m>\u001b[39m Any:\n\u001b[1;32m    351\u001b[0m   \u001b[38;5;28;01mif\u001b[39;00m _cloud_api_resource \u001b[38;5;129;01mis\u001b[39;00m \u001b[38;5;28;01mNone\u001b[39;00m:\n\u001b[0;32m--> 352\u001b[0m     \u001b[38;5;28;01mraise\u001b[39;00m ee_exception\u001b[38;5;241m.\u001b[39mEEException(_NOT_INITIALIZED_MESSAGE)\n\u001b[1;32m    353\u001b[0m   \u001b[38;5;28;01mreturn\u001b[39;00m _cloud_api_resource\u001b[38;5;241m.\u001b[39mprojects()\n",
      "\u001b[0;31mEEException\u001b[0m: Earth Engine client library not initialized. See http://goo.gle/ee-auth."
     ]
    }
   ],
   "source": [
    "    modis = ee.ImageCollection(\"MODIS/061/MOD11A1\") \\\n",
    "        .filterBounds(bologna_geom) \\\n",
    "        .filterDate(YEAR+\"-06-01\", YEAR+\"-08-31\")\n"
   ]
  },
  {
   "cell_type": "markdown",
   "id": "4c75b914",
   "metadata": {},
   "source": [
    "### Classify ΔLST Day-Night \n",
    "Classify difference into three heat release classes:\n",
    "- Class 1: fast cooling (>10°C)\n",
    "- Class 2: moderate (5–10°C)\n",
    "- Class 3: low cooling (<5°C), i.e. high heat retention"
   ]
  },
  {
   "cell_type": "code",
   "execution_count": null,
   "id": "504295c5",
   "metadata": {},
   "outputs": [
    {
     "data": {
      "text/html": [
       "\n",
       "            <style>\n",
       "                .geemap-dark {\n",
       "                    --jp-widgets-color: white;\n",
       "                    --jp-widgets-label-color: white;\n",
       "                    --jp-ui-font-color1: white;\n",
       "                    --jp-layout-color2: #454545;\n",
       "                    background-color: #383838;\n",
       "                }\n",
       "\n",
       "                .geemap-dark .jupyter-button {\n",
       "                    --jp-layout-color3: #383838;\n",
       "                }\n",
       "\n",
       "                .geemap-colab {\n",
       "                    background-color: var(--colab-primary-surface-color, white);\n",
       "                }\n",
       "\n",
       "                .geemap-colab .jupyter-button {\n",
       "                    --jp-layout-color3: var(--colab-primary-surface-color, white);\n",
       "                }\n",
       "            </style>\n",
       "            "
      ],
      "text/plain": [
       "<IPython.core.display.HTML object>"
      ]
     },
     "metadata": {},
     "output_type": "display_data"
    }
   ],
   "source": [
    "\n",
    "    lst_day_modis = modis.select(\"LST_Day_1km\").mean().multiply(0.02).subtract(273.15).rename(\"LST_Day\")\n",
    "    lst_night_modis = modis.select(\"LST_Night_1km\").mean().multiply(0.02).subtract(273.15).rename(\"LST_Night\")\n",
    "    delta_lst = lst_day_modis.subtract(lst_night_modis).rename(\"DeltaLST\")\n",
    "    delta_lst_class = delta_lst.expression(\"(d < 5) ? 3 : (d < 10) ? 2 : 1\", {\"d\": delta_lst}).rename(\"DeltaLSTClass\")"
   ]
  },
  {
   "cell_type": "markdown",
   "id": "b7b53fcc",
   "metadata": {},
   "source": [
    "## Retrieve Landsat 8/9 Collection 2 L2 imagery (summer 2024) \n",
    "- Purpose: estimate Land Surface Temperature (LST) from band ST_B10\n",
    "- LST will be used as baseline to analyze surface thermal variability"
   ]
  },
  {
   "cell_type": "code",
   "execution_count": null,
   "id": "ce86ad04",
   "metadata": {},
   "outputs": [
    {
     "data": {
      "text/html": [
       "\n",
       "            <style>\n",
       "                .geemap-dark {\n",
       "                    --jp-widgets-color: white;\n",
       "                    --jp-widgets-label-color: white;\n",
       "                    --jp-ui-font-color1: white;\n",
       "                    --jp-layout-color2: #454545;\n",
       "                    background-color: #383838;\n",
       "                }\n",
       "\n",
       "                .geemap-dark .jupyter-button {\n",
       "                    --jp-layout-color3: #383838;\n",
       "                }\n",
       "\n",
       "                .geemap-colab {\n",
       "                    background-color: var(--colab-primary-surface-color, white);\n",
       "                }\n",
       "\n",
       "                .geemap-colab .jupyter-button {\n",
       "                    --jp-layout-color3: var(--colab-primary-surface-color, white);\n",
       "                }\n",
       "            </style>\n",
       "            "
      ],
      "text/plain": [
       "<IPython.core.display.HTML object>"
      ]
     },
     "metadata": {},
     "output_type": "display_data"
    }
   ],
   "source": [
    "    collection = (ee.ImageCollection(\"LANDSAT/LC08/C02/T1_L2\")\n",
    "        .filterBounds(bologna_geom)\n",
    "        .filterDate(YEAR+\"-06-01\", YEAR+\"-08-31\")\n",
    "        .filter(ee.Filter.lt(\"CLOUD_COVER\", 10))\n",
    "        .map(kelvin_to_celsius))\n",
    "\n"
   ]
  },
  {
   "cell_type": "markdown",
   "id": "49d54f09",
   "metadata": {},
   "source": [
    "### Calculate LST Z-score\n",
    "- Identify statistical anomalies in LST relative to the city's average\n",
    "- Z = (pixel - mean) / std_dev"
   ]
  },
  {
   "cell_type": "code",
   "execution_count": null,
   "id": "74ac9b9b",
   "metadata": {},
   "outputs": [
    {
     "data": {
      "text/html": [
       "\n",
       "            <style>\n",
       "                .geemap-dark {\n",
       "                    --jp-widgets-color: white;\n",
       "                    --jp-widgets-label-color: white;\n",
       "                    --jp-ui-font-color1: white;\n",
       "                    --jp-layout-color2: #454545;\n",
       "                    background-color: #383838;\n",
       "                }\n",
       "\n",
       "                .geemap-dark .jupyter-button {\n",
       "                    --jp-layout-color3: #383838;\n",
       "                }\n",
       "\n",
       "                .geemap-colab {\n",
       "                    background-color: var(--colab-primary-surface-color, white);\n",
       "                }\n",
       "\n",
       "                .geemap-colab .jupyter-button {\n",
       "                    --jp-layout-color3: var(--colab-primary-surface-color, white);\n",
       "                }\n",
       "            </style>\n",
       "            "
      ],
      "text/plain": [
       "<IPython.core.display.HTML object>"
      ]
     },
     "metadata": {},
     "output_type": "display_data"
    }
   ],
   "source": [
    "    lst_mean = collection.mean().clip(bologna_geom)\n",
    "    mean_dict = lst_mean.reduceRegion(reducer=ee.Reducer.mean(), geometry=bologna_geom, scale=100, maxPixels=1e13)\n",
    "    std_dict = lst_mean.reduceRegion(reducer=ee.Reducer.stdDev(), geometry=bologna_geom, scale=100, maxPixels=1e13)\n",
    "    mean_val = ee.Number(mean_dict.get(\"LST\"))\n",
    "    std_val = ee.Number(std_dict.get(\"LST\"))\n",
    "    z_score = lst_mean.subtract(mean_val).divide(std_val).rename(\"Z\")\n"
   ]
  },
  {
   "cell_type": "markdown",
   "id": "8ac11944",
   "metadata": {},
   "source": [
    "### Classify LST Z-score into 10 classes (5 below, 5 above average) \n",
    "This helps in highlighting both cool and hot zones relative to the norm"
   ]
  },
  {
   "cell_type": "code",
   "execution_count": null,
   "id": "5c005b25",
   "metadata": {},
   "outputs": [
    {
     "data": {
      "text/html": [
       "\n",
       "            <style>\n",
       "                .geemap-dark {\n",
       "                    --jp-widgets-color: white;\n",
       "                    --jp-widgets-label-color: white;\n",
       "                    --jp-ui-font-color1: white;\n",
       "                    --jp-layout-color2: #454545;\n",
       "                    background-color: #383838;\n",
       "                }\n",
       "\n",
       "                .geemap-dark .jupyter-button {\n",
       "                    --jp-layout-color3: #383838;\n",
       "                }\n",
       "\n",
       "                .geemap-colab {\n",
       "                    background-color: var(--colab-primary-surface-color, white);\n",
       "                }\n",
       "\n",
       "                .geemap-colab .jupyter-button {\n",
       "                    --jp-layout-color3: var(--colab-primary-surface-color, white);\n",
       "                }\n",
       "            </style>\n",
       "            "
      ],
      "text/plain": [
       "<IPython.core.display.HTML object>"
      ]
     },
     "metadata": {},
     "output_type": "display_data"
    }
   ],
   "source": [
    "    classified = z_score.expression(\"(z <= -2.0) ? 1 : (z <= -1.5) ? 2 : (z <= -1.0) ? 3 : (z <= -0.5) ? 4 : \" +\n",
    "                                        \"(z < 0) ? 5 : (z < 0.5) ? 6 : (z < 1.0) ? 7 : (z < 1.5) ? 8 : (z < 2.0) ? 9 : 10\", {\"z\": z_score}).rename(\"Z_class\")"
   ]
  },
  {
   "cell_type": "markdown",
   "id": "00e73dcd",
   "metadata": {},
   "source": [
    "##  Compute NDVI (Normalized Difference Vegetation Index) \n",
    "NDVI = (NIR - Red) / (NIR + Red)<br/>\n",
    "Derived from Surface Reflectance bands B5 (NIR) and B4 (Red)<br/>\n",
    "NDVI is used to identify vegetated vs built-up areas"
   ]
  },
  {
   "cell_type": "code",
   "execution_count": null,
   "id": "f746a269",
   "metadata": {},
   "outputs": [
    {
     "data": {
      "text/html": [
       "\n",
       "            <style>\n",
       "                .geemap-dark {\n",
       "                    --jp-widgets-color: white;\n",
       "                    --jp-widgets-label-color: white;\n",
       "                    --jp-ui-font-color1: white;\n",
       "                    --jp-layout-color2: #454545;\n",
       "                    background-color: #383838;\n",
       "                }\n",
       "\n",
       "                .geemap-dark .jupyter-button {\n",
       "                    --jp-layout-color3: #383838;\n",
       "                }\n",
       "\n",
       "                .geemap-colab {\n",
       "                    background-color: var(--colab-primary-surface-color, white);\n",
       "                }\n",
       "\n",
       "                .geemap-colab .jupyter-button {\n",
       "                    --jp-layout-color3: var(--colab-primary-surface-color, white);\n",
       "                }\n",
       "            </style>\n",
       "            "
      ],
      "text/plain": [
       "<IPython.core.display.HTML object>"
      ]
     },
     "metadata": {},
     "output_type": "display_data"
    }
   ],
   "source": [
    "\n",
    "    ndvi_collection = (ee.ImageCollection(\"LANDSAT/LC08/C02/T1_L2\")\n",
    "        .filterBounds(bologna_geom)\n",
    "        .filterDate(YEAR+\"-06-01\", YEAR+\"-08-31\")\n",
    "        .filter(ee.Filter.lt(\"CLOUD_COVER\", 10))\n",
    "        .map(compute_ndvi))\n",
    "\n",
    "    ndvi_mean = ndvi_collection.select(\"NDVI\").mean().clip(bologna_geom)"
   ]
  },
  {
   "cell_type": "markdown",
   "id": "80c9eb97",
   "metadata": {},
   "source": [
    "## Compute Albedo using Liang (2001) method\n",
    "Albedo is calculated using a weighted sum of Surface Reflectance bands<br>\n",
    "Equation adapted for Landsat 8: B2, B4, B5, B6, B7<br>\n",
    "Result: surface reflectance from 0 (fully absorbent) to 1 (fully reflective)\n"
   ]
  },
  {
   "cell_type": "code",
   "execution_count": null,
   "id": "6b86e2ef",
   "metadata": {},
   "outputs": [
    {
     "data": {
      "text/html": [
       "\n",
       "            <style>\n",
       "                .geemap-dark {\n",
       "                    --jp-widgets-color: white;\n",
       "                    --jp-widgets-label-color: white;\n",
       "                    --jp-ui-font-color1: white;\n",
       "                    --jp-layout-color2: #454545;\n",
       "                    background-color: #383838;\n",
       "                }\n",
       "\n",
       "                .geemap-dark .jupyter-button {\n",
       "                    --jp-layout-color3: #383838;\n",
       "                }\n",
       "\n",
       "                .geemap-colab {\n",
       "                    background-color: var(--colab-primary-surface-color, white);\n",
       "                }\n",
       "\n",
       "                .geemap-colab .jupyter-button {\n",
       "                    --jp-layout-color3: var(--colab-primary-surface-color, white);\n",
       "                }\n",
       "            </style>\n",
       "            "
      ],
      "text/plain": [
       "<IPython.core.display.HTML object>"
      ]
     },
     "metadata": {},
     "output_type": "display_data"
    }
   ],
   "source": [
    "\n",
    "    albedo_collection = ndvi_collection.map(compute_albedo)\n",
    "    albedo_mean = albedo_collection.select(\"Albedo\").mean().clip(bologna_geom)"
   ]
  },
  {
   "cell_type": "markdown",
   "id": "a83de8ea",
   "metadata": {},
   "source": [
    "### Normalize LST, NDVI, and Albedo \n",
    "- Normalize LST (30–50°C), NDVI (0–0.8), Albedo (0.05–0.35) to [0, 1] range\n",
    "- Needed for consistent index construction"
   ]
  },
  {
   "cell_type": "code",
   "execution_count": null,
   "id": "e99d13c8",
   "metadata": {},
   "outputs": [
    {
     "data": {
      "text/html": [
       "\n",
       "            <style>\n",
       "                .geemap-dark {\n",
       "                    --jp-widgets-color: white;\n",
       "                    --jp-widgets-label-color: white;\n",
       "                    --jp-ui-font-color1: white;\n",
       "                    --jp-layout-color2: #454545;\n",
       "                    background-color: #383838;\n",
       "                }\n",
       "\n",
       "                .geemap-dark .jupyter-button {\n",
       "                    --jp-layout-color3: #383838;\n",
       "                }\n",
       "\n",
       "                .geemap-colab {\n",
       "                    background-color: var(--colab-primary-surface-color, white);\n",
       "                }\n",
       "\n",
       "                .geemap-colab .jupyter-button {\n",
       "                    --jp-layout-color3: var(--colab-primary-surface-color, white);\n",
       "                }\n",
       "            </style>\n",
       "            "
      ],
      "text/plain": [
       "<IPython.core.display.HTML object>"
      ]
     },
     "metadata": {},
     "output_type": "display_data"
    }
   ],
   "source": [
    "    lst_norm = lst_mean.unitScale(30, 50).rename(\"LST_norm\")\n",
    "    ndvi_norm = ndvi_mean.unitScale(0, 0.8).rename(\"NDVI_norm\")\n",
    "    albedo_norm = albedo_mean.unitScale(0.05, 0.35).rename(\"Albedo_norm\")\n"
   ]
  },
  {
   "cell_type": "markdown",
   "id": "4978daf9",
   "metadata": {},
   "source": [
    "## Compute Heat-Vegetation Index \n",
    "High value = hot and poorly vegetated → risk of UHI\n"
   ]
  },
  {
   "cell_type": "code",
   "execution_count": null,
   "id": "bef1f0eb",
   "metadata": {},
   "outputs": [
    {
     "data": {
      "text/html": [
       "\n",
       "            <style>\n",
       "                .geemap-dark {\n",
       "                    --jp-widgets-color: white;\n",
       "                    --jp-widgets-label-color: white;\n",
       "                    --jp-ui-font-color1: white;\n",
       "                    --jp-layout-color2: #454545;\n",
       "                    background-color: #383838;\n",
       "                }\n",
       "\n",
       "                .geemap-dark .jupyter-button {\n",
       "                    --jp-layout-color3: #383838;\n",
       "                }\n",
       "\n",
       "                .geemap-colab {\n",
       "                    background-color: var(--colab-primary-surface-color, white);\n",
       "                }\n",
       "\n",
       "                .geemap-colab .jupyter-button {\n",
       "                    --jp-layout-color3: var(--colab-primary-surface-color, white);\n",
       "                }\n",
       "            </style>\n",
       "            "
      ],
      "text/plain": [
       "<IPython.core.display.HTML object>"
      ]
     },
     "metadata": {},
     "output_type": "display_data"
    }
   ],
   "source": [
    "    heat_veg_index = lst_norm.subtract(ndvi_norm).rename(\"HeatVegIndex\")"
   ]
  },
  {
   "cell_type": "markdown",
   "id": "d6f09e8f",
   "metadata": {},
   "source": [
    "## Compute Heat Retention Index\n",
    "High value = hot and low albedo → likely to retain heat during night"
   ]
  },
  {
   "cell_type": "code",
   "execution_count": null,
   "id": "8507827b",
   "metadata": {},
   "outputs": [
    {
     "data": {
      "text/html": [
       "\n",
       "            <style>\n",
       "                .geemap-dark {\n",
       "                    --jp-widgets-color: white;\n",
       "                    --jp-widgets-label-color: white;\n",
       "                    --jp-ui-font-color1: white;\n",
       "                    --jp-layout-color2: #454545;\n",
       "                    background-color: #383838;\n",
       "                }\n",
       "\n",
       "                .geemap-dark .jupyter-button {\n",
       "                    --jp-layout-color3: #383838;\n",
       "                }\n",
       "\n",
       "                .geemap-colab {\n",
       "                    background-color: var(--colab-primary-surface-color, white);\n",
       "                }\n",
       "\n",
       "                .geemap-colab .jupyter-button {\n",
       "                    --jp-layout-color3: var(--colab-primary-surface-color, white);\n",
       "                }\n",
       "            </style>\n",
       "            "
      ],
      "text/plain": [
       "<IPython.core.display.HTML object>"
      ]
     },
     "metadata": {},
     "output_type": "display_data"
    }
   ],
   "source": [
    "    heat_retention_index = lst_norm.subtract(albedo_norm).rename(\"HeatRetentionIndex\")"
   ]
  },
  {
   "cell_type": "markdown",
   "id": "a523a753",
   "metadata": {},
   "source": [
    "## Urban Heat Exposure Index (UHEI)"
   ]
  },
  {
   "cell_type": "code",
   "execution_count": null,
   "id": "5e58c391",
   "metadata": {},
   "outputs": [
    {
     "data": {
      "text/html": [
       "\n",
       "            <style>\n",
       "                .geemap-dark {\n",
       "                    --jp-widgets-color: white;\n",
       "                    --jp-widgets-label-color: white;\n",
       "                    --jp-ui-font-color1: white;\n",
       "                    --jp-layout-color2: #454545;\n",
       "                    background-color: #383838;\n",
       "                }\n",
       "\n",
       "                .geemap-dark .jupyter-button {\n",
       "                    --jp-layout-color3: #383838;\n",
       "                }\n",
       "\n",
       "                .geemap-colab {\n",
       "                    background-color: var(--colab-primary-surface-color, white);\n",
       "                }\n",
       "\n",
       "                .geemap-colab .jupyter-button {\n",
       "                    --jp-layout-color3: var(--colab-primary-surface-color, white);\n",
       "                }\n",
       "            </style>\n",
       "            "
      ],
      "text/plain": [
       "<IPython.core.display.HTML object>"
      ]
     },
     "metadata": {},
     "output_type": "display_data"
    }
   ],
   "source": [
    "\n",
    "    uhe_index = lst_norm.add(ee.Image(1).subtract(ndvi_norm)) \\\n",
    "                      .add(ee.Image(1).subtract(albedo_norm)) \\\n",
    "                      .rename(\"UrbanHeatExposureIndex\")"
   ]
  },
  {
   "cell_type": "markdown",
   "id": "c3c2aee6",
   "metadata": {},
   "source": [
    "### Export Raster Outputs as GeoTIFF (clipped to Bologna) \n",
    "Save all indices and classified rasters as GeoTIFFs for further analysis"
   ]
  },
  {
   "cell_type": "code",
   "execution_count": 20,
   "id": "f24f999f",
   "metadata": {},
   "outputs": [
    {
     "data": {
      "text/html": [
       "\n",
       "            <style>\n",
       "                .geemap-dark {\n",
       "                    --jp-widgets-color: white;\n",
       "                    --jp-widgets-label-color: white;\n",
       "                    --jp-ui-font-color1: white;\n",
       "                    --jp-layout-color2: #454545;\n",
       "                    background-color: #383838;\n",
       "                }\n",
       "\n",
       "                .geemap-dark .jupyter-button {\n",
       "                    --jp-layout-color3: #383838;\n",
       "                }\n",
       "\n",
       "                .geemap-colab {\n",
       "                    background-color: var(--colab-primary-surface-color, white);\n",
       "                }\n",
       "\n",
       "                .geemap-colab .jupyter-button {\n",
       "                    --jp-layout-color3: var(--colab-primary-surface-color, white);\n",
       "                }\n",
       "            </style>\n",
       "            "
      ],
      "text/plain": [
       "<IPython.core.display.HTML object>"
      ]
     },
     "metadata": {},
     "output_type": "display_data"
    }
   ],
   "source": [
    "if not os.path.exists(DATADIR + os.sep + 'lst_mean.tif'):\n",
    "    geemap.ee_export_image(lst_mean.clip(bologna_geom), filename=DATADIR + os.sep + 'lst_mean.tif', scale=100, region=bologna_geom)\n",
    "    raster_to_dissolved_geojson(DATADIR + os.sep + 'lst_mean.tif', DATADIR + os.sep + 'lst_mean.geojson')\n",
    "    \n",
    "if not os.path.exists(DATADIR + os.sep + 'z_score.tif'):\n",
    "    geemap.ee_export_image(z_score.clip(bologna_geom), filename=DATADIR + os.sep + 'z_score.tif', scale=100, region=bologna_geom)\n",
    "    raster_to_dissolved_geojson(DATADIR + os.sep + 'z_score.tif', DATADIR + os.sep + 'z_score.geojson')\n",
    "    \n",
    "if not os.path.exists(DATADIR + os.sep + 'z_score_class.tif'):\n",
    "    geemap.ee_export_image(classified.clip(bologna_geom), filename=DATADIR + os.sep + 'z_score_class.tif', scale=100, region=bologna_geom)\n",
    "    raster_to_dissolved_geojson(DATADIR + os.sep + 'z_score_class.tif', DATADIR + os.sep + 'z_score_class.geojson')\n",
    "    \n",
    "if not os.path.exists(DATADIR + os.sep + 'ndvi_mean.tif'):\n",
    "    geemap.ee_export_image(ndvi_mean.clip(bologna_geom), filename=DATADIR + os.sep + 'ndvi_mean.tif', scale=30, region=bologna_geom)\n",
    "    raster_to_dissolved_geojson(DATADIR + os.sep + 'ndvi_mean.tif', DATADIR + os.sep + 'ndvi_mean.geojson')\n",
    "    \n",
    "if not os.path.exists(DATADIR + os.sep + 'albedo_mean.tif'):\n",
    "    geemap.ee_export_image(albedo_mean.clip(bologna_geom), filename=DATADIR + os.sep + 'albedo_mean.tif', scale=30, region=bologna_geom)\n",
    "    raster_to_dissolved_geojson(DATADIR + os.sep + 'albedo_mean.tif', DATADIR + os.sep + 'albedo_mean.geojson')\n",
    "\n",
    "if not os.path.exists(DATADIR + os.sep + 'heat_veg_index.tif'):\n",
    "    geemap.ee_export_image(heat_veg_index.clip(bologna_geom), filename=DATADIR + os.sep + 'heat_veg_index.tif', scale=100, region=bologna_geom)\n",
    "    raster_to_dissolved_geojson(DATADIR + os.sep + 'heat_veg_index.tif', DATADIR + os.sep + 'heat_veg_index.geojson')\n",
    "\n",
    "if not os.path.exists(DATADIR + os.sep + 'heat_retention_index.tif'):\n",
    "    geemap.ee_export_image(heat_retention_index.clip(bologna_geom), filename=DATADIR + os.sep + 'heat_retention_index.tif', scale=100, region=bologna_geom)\n",
    "    raster_to_dissolved_geojson(DATADIR + os.sep + 'heat_retention_index.tif', DATADIR + os.sep + 'heat_retention_index.geojson')\n",
    "\n",
    "if not os.path.exists(DATADIR + os.sep + 'lst_day_modis.tif'):\n",
    "    geemap.ee_export_image(lst_day_modis.clip(bologna_geom), filename=DATADIR + os.sep + 'lst_day_modis.tif', scale=1000, region=bologna_geom)\n",
    "    raster_to_dissolved_geojson(DATADIR + os.sep + 'lst_day_modis.tif', DATADIR + os.sep + 'lst_day_modis.geojson')\n",
    "\n",
    "if not os.path.exists(DATADIR + os.sep + 'lst_night_modis.tif'):\n",
    "    geemap.ee_export_image(lst_night_modis.clip(bologna_geom), filename=DATADIR + os.sep + 'lst_night_modis.tif', scale=1000, region=bologna_geom)\n",
    "    raster_to_dissolved_geojson(DATADIR + os.sep + 'lst_night_modis.tif', DATADIR + os.sep + 'lst_night_modis.geojson')\n",
    "\n",
    "if not os.path.exists(DATADIR + os.sep + 'delta_lst.tif'):\n",
    "    geemap.ee_export_image(delta_lst.clip(bologna_geom), filename=DATADIR + os.sep + 'delta_lst.tif', scale=1000, region=bologna_geom)\n",
    "    raster_to_dissolved_geojson(DATADIR + os.sep + 'delta_lst.tif', DATADIR + os.sep + 'delta_lst.geojson')\n",
    "\n",
    "if not os.path.exists(DATADIR + os.sep + 'delta_lst_class.tif'):\n",
    "    geemap.ee_export_image(delta_lst_class.clip(bologna_geom), filename=DATADIR + os.sep + 'delta_lst_class.tif', scale=1000, region=bologna_geom)\n",
    "    raster_to_dissolved_geojson(DATADIR + os.sep + 'delta_lst_class.tif', DATADIR + os.sep + 'delta_lst_class.geojson')\n",
    "    \n",
    "if not os.path.exists(DATADIR + os.sep + 'urban_heat_exposure_index.tif'):    \n",
    "    geemap.ee_export_image(uhe_index.clip(bologna_geom), filename=DATADIR + os.sep + 'urban_heat_exposure_index.tif', scale=100, region=bologna_geom)\n",
    "    raster_to_dissolved_geojson(DATADIR + os.sep + 'urban_heat_exposure_index.tif', DATADIR + os.sep + 'urban_heat_exposure_index.geojson')\n",
    "if not os.path.exists(DATADIR + os.sep + 'urban_heat_exposure_index.tif'):\n",
    "    geemap.ee_export_image(uhe_index.clip(bologna_geom), filename=DATADIR + os.sep + 'urban_heat_exposure_index.tif', scale=100, region=bologna_geom)\n",
    "    raster_to_dissolved_geojson(DATADIR + os.sep + 'urban_heat_exposure_index.tif', DATADIR + os.sep + 'urban_heat_exposure_index.geojson')\n",
    "if not os.path.exists(DATADIR + os.sep + 'heat_retention_index.tif'):\n",
    "    geemap.ee_export_image(heat_retention_index.clip(bologna_geom), filename=DATADIR + os.sep + 'heat_retention_index.tif', scale=100, region=bologna_geom)\n",
    "    raster_to_dissolved_geojson(DATADIR + os.sep + 'heat_retention_index.tif', DATADIR + os.sep + 'heat_retention_index.geojson')\n"
   ]
  },
  {
   "cell_type": "markdown",
   "id": "2bcf222e",
   "metadata": {},
   "source": [
    "## Visualize Layers on Interactive Map\n",
    "- Display the key indices and classified maps on an interactive map\n",
    "- Each layer includes an appropriate color palette for interpretation"
   ]
  },
  {
   "cell_type": "code",
   "execution_count": null,
   "id": "7b04c3da",
   "metadata": {},
   "outputs": [
    {
     "data": {
      "text/html": [
       "\n",
       "            <style>\n",
       "                .geemap-dark {\n",
       "                    --jp-widgets-color: white;\n",
       "                    --jp-widgets-label-color: white;\n",
       "                    --jp-ui-font-color1: white;\n",
       "                    --jp-layout-color2: #454545;\n",
       "                    background-color: #383838;\n",
       "                }\n",
       "\n",
       "                .geemap-dark .jupyter-button {\n",
       "                    --jp-layout-color3: #383838;\n",
       "                }\n",
       "\n",
       "                .geemap-colab {\n",
       "                    background-color: var(--colab-primary-surface-color, white);\n",
       "                }\n",
       "\n",
       "                .geemap-colab .jupyter-button {\n",
       "                    --jp-layout-color3: var(--colab-primary-surface-color, white);\n",
       "                }\n",
       "            </style>\n",
       "            "
      ],
      "text/plain": [
       "<IPython.core.display.HTML object>"
      ]
     },
     "metadata": {},
     "output_type": "display_data"
    },
    {
     "data": {
      "application/vnd.jupyter.widget-view+json": {
       "model_id": "f25b5d38f5454012ba5407065174e312",
       "version_major": 2,
       "version_minor": 0
      },
      "text/plain": [
       "VBox(children=(Map(center=[44.5, 11.3], controls=(ZoomControl(options=['position', 'zoom_in_text', 'zoom_in_ti…"
      ]
     },
     "execution_count": 21,
     "metadata": {},
     "output_type": "execute_result"
    }
   ],
   "source": [
    "# Cartella dei file\n",
    "geojson_dir = DATADIR\n",
    "\n",
    "# Genera palette colore da colormap\n",
    "def generate_colors(n, cmap_name=\"viridis\"):\n",
    "    cmap = cm.get_cmap(cmap_name, n)\n",
    "    return [mcolors.to_hex(cmap(i)) for i in range(n)]\n",
    "\n",
    "# Mappa unica\n",
    "m = Map(center=(44.5, 11.3), zoom=12)\n",
    "controls = []\n",
    "\n",
    "# Trova tutti i file geojson nella cartella\n",
    "for file in sorted(os.listdir(geojson_dir)):\n",
    "    if file.endswith(\".geojson\"):\n",
    "        layer_name = file.replace(\"_\", \" \").replace(\".geojson\", \"\").title()\n",
    "        path = os.path.join(geojson_dir, file)\n",
    "        with open(path, \"r\", encoding=\"utf-8\") as f:\n",
    "            geojson_data = json.load(f)\n",
    "\n",
    "        values = [f['properties']['value'] for f in geojson_data['features'] if 'value' in f['properties']]\n",
    "\n",
    "        def safe_float(v):\n",
    "            try:\n",
    "                return float(v)\n",
    "            except (ValueError, TypeError):\n",
    "                return v\n",
    "\n",
    "        unique_values = sorted(set(values), key=safe_float)\n",
    "        color_map = {v: generate_colors(len(unique_values))[i] for i, v in enumerate(unique_values)}\n",
    "\n",
    "        opacity_slider = FloatSlider(value=0.7, min=0, max=1, step=0.05, description=layer_name[:12], continuous_update=True)\n",
    "\n",
    "        for f in geojson_data['features']:\n",
    "            val = f['properties'].get('value')\n",
    "            if val in color_map:\n",
    "                f['properties']['style'] = {\n",
    "                    \"color\": color_map[val],  # Nessun bordo\n",
    "                    \"fillColor\": color_map[val],\n",
    "                    \"fillOpacity\": opacity_slider.value,\n",
    "                    \"weight\": 0.1\n",
    "                }\n",
    "\n",
    "        gj = GeoJSON(data=geojson_data, name=layer_name)\n",
    "\n",
    "        def update_opacity(change, gj=gj):\n",
    "            for feat in gj.data['features']:\n",
    "                feat['properties']['style']['fillOpacity'] = change['new']\n",
    "            gj.data = gj.data  # trigger refresh\n",
    "\n",
    "        opacity_slider.observe(update_opacity, names='value')\n",
    "        controls.append(opacity_slider)\n",
    "\n",
    "        m.add_layer(gj)\n",
    "\n",
    "        legend_html = \"\".join(\n",
    "            f\"<div><span style='background:{color};width:12px;height:12px;display:inline-block;margin-right:6px'></span>{val}</div>\"\n",
    "            for val, color in color_map.items())\n",
    "        legend = HTML(value=f\"\"\"\n",
    "        <div style='background:white;padding:10px;border:1px solid #ccc;font-size:13px'>\n",
    "            <strong>{layer_name}</strong><br>{legend_html}\n",
    "        </div>\"\"\")\n",
    "        m.add_control(WidgetControl(widget=legend, position='topright'))\n",
    "\n",
    "# Aggiungi controlli\n",
    "m.add_control(LayersControl(position='topright'))\n",
    "m.add_control(WidgetControl(widget=VBox(controls), position='bottomleft'))\n",
    "\n",
    "# Mostra la mappa\n",
    "m\n"
   ]
  }
 ],
 "metadata": {
  "kernelspec": {
   "display_name": "Python 3",
   "language": "python",
   "name": "python3"
  },
  "language_info": {
   "codemirror_mode": {
    "name": "ipython",
    "version": 3
   },
   "file_extension": ".py",
   "mimetype": "text/x-python",
   "name": "python",
   "nbconvert_exporter": "python",
   "pygments_lexer": "ipython3",
   "version": "3.13.3"
  }
 },
 "nbformat": 4,
 "nbformat_minor": 5
}
