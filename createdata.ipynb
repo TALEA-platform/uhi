{
 "cells": [
  {
   "cell_type": "markdown",
   "id": "c1bf6293",
   "metadata": {},
   "source": [
    "# Urban Heat Island Analysis – Bologna\n",
    "\n",
    "This notebook performs a comprehensive geospatial analysis to identify and classify Urban Heat Island (UHI) effects in the city of Bologna, Italy, using satellite data and derived indices.\n",
    "\n",
    "## Process Overview\n",
    "\n",
    "###  Index Summary\n",
    "\n",
    "All files are saved in both `.tif` and `.geojson` formats, clipped to the Bologna boundary.\n",
    "\n",
    "| Index | Description | File name (no extension) |\n",
    "|-------|-------------|----------------------------|\n",
    "| **LST** | Land Surface Temperature derived from Landsat ST_B10 | lst_mean |\n",
    "| **Z-score of LST** | Standardized anomaly of LST to detect relative hot/cold zones | z_score |\n",
    "| **NDVI** | Normalized Difference Vegetation Index from bands B4/B5 | ndvi_mean |\n",
    "| **Albedo** | Surface reflectivity index (Liang, 2001) using bands B2-B7 | albedo_mean |\n",
    "| **Heat-Vegetation Index** | LST_norm – NDVI_norm, shows lack of vegetative cooling | heat_veg_index |\n",
    "| **Heat Retention Index** | LST_norm – Albedo_norm, shows capacity to retain heat | heat_retention_index |\n",
    "| **MODIS ΔLST** | Day-Night temperature difference from MODIS | delta_lst |\n",
    "| **ΔLST Classes** | Classification of ΔLST: high, medium, low delta | delta_lst_class |\n",
    "| **Urban Heat Exposure Index (UHEI)** | Composite index: LST + (1 – NDVI) + (1 – Albedo) | urban_heat_exposure_index | Composite index: LST + (1 – NDVI) + (1 – Albedo) | urban_heat_exposure_index |\n",
    "\n",
    "1. **Load AOI (Bologna)** from precise administrative boundary (GeoJSON)\n",
    "2. **Retrieve satellite datasets**:\n",
    "   - **Landsat 8/9 SR** for LST, NDVI, and Albedo (summer 2024)\n",
    "   - **MODIS LST** for day/night surface temperature (summer 2024)\n",
    "3. **Calculate indices**:\n",
    "   - **LST (Land Surface Temperature)**: from ST_B10 (Landsat)\n",
    "   - **Z-score of LST**: statistical anomaly per pixel\n",
    "   - **NDVI**: vegetation index from SR_B4 and SR_B5\n",
    "   - **Albedo**: surface reflectance from SR_B2, B4, B5, B6, B7 using Liang (2001) coefficients [1]\n",
    "   - **Heat-Vegetation Index**: LST norm – NDVI norm\n",
    "   - **Heat Retention Index**: LST norm – Albedo norm\n",
    "   - **MODIS ΔLST (Day – Night)** and its classification\n",
    "   - **Urban Heat Exposure Index (UHEI)**: composite score LST + (1 – NDVI) + (1 – Albedo)\n",
    "4. **Classify and export outputs**:\n",
    "   - Classify Z-score, Albedo, ΔLST\n",
    "   - Export all outputs as raster and GeoJSON (dissolved)\n",
    "\n",
    "📚 **Reference**\n",
    "\n",
    "[1] Liang, S. (2001). *Narrowband to broadband conversions of land surface albedo I: Algorithms*. Remote Sensing of Environment, 76(2), 213–238.  \n",
    "https://doi.org/10.1016/S0034-4257(00)00205-4"
   ]
  },
  {
   "cell_type": "code",
   "execution_count": 48,
   "id": "bcdb2a83",
   "metadata": {},
   "outputs": [
    {
     "data": {
      "text/html": [
       "\n",
       "            <style>\n",
       "                .geemap-dark {\n",
       "                    --jp-widgets-color: white;\n",
       "                    --jp-widgets-label-color: white;\n",
       "                    --jp-ui-font-color1: white;\n",
       "                    --jp-layout-color2: #454545;\n",
       "                    background-color: #383838;\n",
       "                }\n",
       "\n",
       "                .geemap-dark .jupyter-button {\n",
       "                    --jp-layout-color3: #383838;\n",
       "                }\n",
       "\n",
       "                .geemap-colab {\n",
       "                    background-color: var(--colab-primary-surface-color, white);\n",
       "                }\n",
       "\n",
       "                .geemap-colab .jupyter-button {\n",
       "                    --jp-layout-color3: var(--colab-primary-surface-color, white);\n",
       "                }\n",
       "            </style>\n",
       "            "
      ],
      "text/plain": [
       "<IPython.core.display.HTML object>"
      ]
     },
     "metadata": {},
     "output_type": "display_data"
    }
   ],
   "source": [
    "import ee\n",
    "import os\n",
    "import geemap\n",
    "import geopandas as gpd\n",
    "import numpy as np\n",
    "import pandas as pd\n",
    "import matplotlib.pyplot as plt\n",
    "import seaborn as sns\n",
    "import rasterio\n",
    "from rasterio import features\n",
    "from shapely.geometry import shape\n",
    "from shapely.ops import unary_union\n",
    "import json\n",
    "from shapely.geometry import MultiPolygon\n",
    "from rasterio.features import shapes\n",
    "from shapely.geometry import MultiPolygon\n",
    "from shapely.ops import unary_union, polygonize\n",
    "import maplibre\n",
    "from ipyleaflet import Map, GeoJSON, LayersControl, WidgetControl\n",
    "from ipywidgets import HTML, FloatSlider, VBox, Output\n",
    "import matplotlib.pyplot as plt\n",
    "import matplotlib.cm as cm\n",
    "import matplotlib.colors as mcolors\n",
    "import copy\n",
    "\n"
   ]
  },
  {
   "cell_type": "code",
   "execution_count": 49,
   "id": "8f82476b",
   "metadata": {},
   "outputs": [
    {
     "data": {
      "text/html": [
       "\n",
       "            <style>\n",
       "                .geemap-dark {\n",
       "                    --jp-widgets-color: white;\n",
       "                    --jp-widgets-label-color: white;\n",
       "                    --jp-ui-font-color1: white;\n",
       "                    --jp-layout-color2: #454545;\n",
       "                    background-color: #383838;\n",
       "                }\n",
       "\n",
       "                .geemap-dark .jupyter-button {\n",
       "                    --jp-layout-color3: #383838;\n",
       "                }\n",
       "\n",
       "                .geemap-colab {\n",
       "                    background-color: var(--colab-primary-surface-color, white);\n",
       "                }\n",
       "\n",
       "                .geemap-colab .jupyter-button {\n",
       "                    --jp-layout-color3: var(--colab-primary-surface-color, white);\n",
       "                }\n",
       "            </style>\n",
       "            "
      ],
      "text/plain": [
       "<IPython.core.display.HTML object>"
      ]
     },
     "metadata": {},
     "output_type": "display_data"
    }
   ],
   "source": [
    "DATADIR=\"data\"\n",
    "os.makedirs(DATADIR, exist_ok=True)\n",
    "BOUNDARIES = \"bologna_borders.geojson\"\n",
    "YEAR= \"2024\"\n",
    "GEPROJECT= 'ndvi-423516'"
   ]
  },
  {
   "cell_type": "code",
   "execution_count": 50,
   "id": "0e033c51",
   "metadata": {},
   "outputs": [
    {
     "data": {
      "text/html": [
       "\n",
       "            <style>\n",
       "                .geemap-dark {\n",
       "                    --jp-widgets-color: white;\n",
       "                    --jp-widgets-label-color: white;\n",
       "                    --jp-ui-font-color1: white;\n",
       "                    --jp-layout-color2: #454545;\n",
       "                    background-color: #383838;\n",
       "                }\n",
       "\n",
       "                .geemap-dark .jupyter-button {\n",
       "                    --jp-layout-color3: #383838;\n",
       "                }\n",
       "\n",
       "                .geemap-colab {\n",
       "                    background-color: var(--colab-primary-surface-color, white);\n",
       "                }\n",
       "\n",
       "                .geemap-colab .jupyter-button {\n",
       "                    --jp-layout-color3: var(--colab-primary-surface-color, white);\n",
       "                }\n",
       "            </style>\n",
       "            "
      ],
      "text/plain": [
       "<IPython.core.display.HTML object>"
      ]
     },
     "metadata": {},
     "output_type": "display_data"
    }
   ],
   "source": [
    "def kelvin_to_celsius(img):\n",
    "    return img.select(\"ST_B10\").multiply(0.00341802).add(149.0).subtract(273.15).rename(\"LST\")"
   ]
  },
  {
   "cell_type": "code",
   "execution_count": 51,
   "id": "47d19b1a",
   "metadata": {},
   "outputs": [
    {
     "data": {
      "text/html": [
       "\n",
       "            <style>\n",
       "                .geemap-dark {\n",
       "                    --jp-widgets-color: white;\n",
       "                    --jp-widgets-label-color: white;\n",
       "                    --jp-ui-font-color1: white;\n",
       "                    --jp-layout-color2: #454545;\n",
       "                    background-color: #383838;\n",
       "                }\n",
       "\n",
       "                .geemap-dark .jupyter-button {\n",
       "                    --jp-layout-color3: #383838;\n",
       "                }\n",
       "\n",
       "                .geemap-colab {\n",
       "                    background-color: var(--colab-primary-surface-color, white);\n",
       "                }\n",
       "\n",
       "                .geemap-colab .jupyter-button {\n",
       "                    --jp-layout-color3: var(--colab-primary-surface-color, white);\n",
       "                }\n",
       "            </style>\n",
       "            "
      ],
      "text/plain": [
       "<IPython.core.display.HTML object>"
      ]
     },
     "metadata": {},
     "output_type": "display_data"
    }
   ],
   "source": [
    "def compute_ndvi(img):\n",
    "    sr = img.select([\"SR_B5\", \"SR_B4\"]).multiply(0.0000275).add(-0.2)\n",
    "    ndvi = sr.normalizedDifference([\"SR_B5\", \"SR_B4\"]).rename(\"NDVI\")\n",
    "    return img.addBands(ndvi)"
   ]
  },
  {
   "cell_type": "code",
   "execution_count": 52,
   "id": "6aca4576",
   "metadata": {},
   "outputs": [
    {
     "data": {
      "text/html": [
       "\n",
       "            <style>\n",
       "                .geemap-dark {\n",
       "                    --jp-widgets-color: white;\n",
       "                    --jp-widgets-label-color: white;\n",
       "                    --jp-ui-font-color1: white;\n",
       "                    --jp-layout-color2: #454545;\n",
       "                    background-color: #383838;\n",
       "                }\n",
       "\n",
       "                .geemap-dark .jupyter-button {\n",
       "                    --jp-layout-color3: #383838;\n",
       "                }\n",
       "\n",
       "                .geemap-colab {\n",
       "                    background-color: var(--colab-primary-surface-color, white);\n",
       "                }\n",
       "\n",
       "                .geemap-colab .jupyter-button {\n",
       "                    --jp-layout-color3: var(--colab-primary-surface-color, white);\n",
       "                }\n",
       "            </style>\n",
       "            "
      ],
      "text/plain": [
       "<IPython.core.display.HTML object>"
      ]
     },
     "metadata": {},
     "output_type": "display_data"
    }
   ],
   "source": [
    "def compute_albedo(img):\n",
    "    sr = img.multiply(0.0000275).add(-0.2)\n",
    "    b2 = sr.select(\"SR_B2\")\n",
    "    b4 = sr.select(\"SR_B4\")\n",
    "    b5 = sr.select(\"SR_B5\")\n",
    "    b6 = sr.select(\"SR_B6\")\n",
    "    b7 = sr.select(\"SR_B7\")\n",
    "    albedo = (b2.multiply(0.356)\n",
    "                .add(b4.multiply(0.130))\n",
    "                .add(b5.multiply(0.373))\n",
    "                .add(b6.multiply(0.085))\n",
    "                .add(b7.multiply(0.072))\n",
    "                .subtract(0.0018))\n",
    "    return img.addBands(albedo.rename(\"Albedo\"))"
   ]
  },
  {
   "cell_type": "code",
   "execution_count": 53,
   "id": "f8706aaa",
   "metadata": {},
   "outputs": [
    {
     "data": {
      "text/html": [
       "\n",
       "            <style>\n",
       "                .geemap-dark {\n",
       "                    --jp-widgets-color: white;\n",
       "                    --jp-widgets-label-color: white;\n",
       "                    --jp-ui-font-color1: white;\n",
       "                    --jp-layout-color2: #454545;\n",
       "                    background-color: #383838;\n",
       "                }\n",
       "\n",
       "                .geemap-dark .jupyter-button {\n",
       "                    --jp-layout-color3: #383838;\n",
       "                }\n",
       "\n",
       "                .geemap-colab {\n",
       "                    background-color: var(--colab-primary-surface-color, white);\n",
       "                }\n",
       "\n",
       "                .geemap-colab .jupyter-button {\n",
       "                    --jp-layout-color3: var(--colab-primary-surface-color, white);\n",
       "                }\n",
       "            </style>\n",
       "            "
      ],
      "text/plain": [
       "<IPython.core.display.HTML object>"
      ]
     },
     "metadata": {},
     "output_type": "display_data"
    }
   ],
   "source": [
    "def raster_to_dissolved_geojson(raster_path, geojson_path):\n",
    "    with rasterio.open(raster_path) as src:\n",
    "        image = src.read(1)\n",
    "        mask = image != src.nodata\n",
    "        results = (\n",
    "            {'properties': {'value': str(v)}, 'geometry': shape(s)}\n",
    "            for s, v in shapes(image, mask=mask, transform=src.transform)\n",
    "        )\n",
    "        gdf = gpd.GeoDataFrame.from_features(list(results), crs=src.crs)\n",
    "        gdf = gdf.dissolve(by='value').reset_index()\n",
    "       \n",
    "        # Clip to Bologna boundary\n",
    "        boundary = gpd.read_file(BOUNDARIES).to_crs(gdf.crs)\n",
    "        gdf = gpd.overlay(gdf, boundary, how='intersection')\n",
    "\n",
    "        gdf.to_file(geojson_path, driver='GeoJSON')"
   ]
  },
  {
   "cell_type": "markdown",
   "id": "9b2b697e",
   "metadata": {},
   "source": [
    "## Load AOI \n",
    "Load precise municipal boundary of Bologna from local GeoJSON<br/>\n",
    "Required for spatial clipping of all datasets\n"
   ]
  },
  {
   "cell_type": "code",
   "execution_count": 54,
   "id": "e7830ef6",
   "metadata": {},
   "outputs": [
    {
     "data": {
      "text/html": [
       "\n",
       "            <style>\n",
       "                .geemap-dark {\n",
       "                    --jp-widgets-color: white;\n",
       "                    --jp-widgets-label-color: white;\n",
       "                    --jp-ui-font-color1: white;\n",
       "                    --jp-layout-color2: #454545;\n",
       "                    background-color: #383838;\n",
       "                }\n",
       "\n",
       "                .geemap-dark .jupyter-button {\n",
       "                    --jp-layout-color3: #383838;\n",
       "                }\n",
       "\n",
       "                .geemap-colab {\n",
       "                    background-color: var(--colab-primary-surface-color, white);\n",
       "                }\n",
       "\n",
       "                .geemap-colab .jupyter-button {\n",
       "                    --jp-layout-color3: var(--colab-primary-surface-color, white);\n",
       "                }\n",
       "            </style>\n",
       "            "
      ],
      "text/plain": [
       "<IPython.core.display.HTML object>"
      ]
     },
     "metadata": {},
     "output_type": "display_data"
    }
   ],
   "source": [
    "collectdata = False\n",
    "gdf = gpd.read_file(BOUNDARIES).to_crs(\"EPSG:4326\")\n",
    "\n"
   ]
  },
  {
   "cell_type": "markdown",
   "id": "d7cb9de6",
   "metadata": {},
   "source": [
    "# Data Preparation\n",
    "## Extract data from Google Earth Engine\n"
   ]
  },
  {
   "cell_type": "code",
   "execution_count": 55,
   "id": "b7ff433a",
   "metadata": {},
   "outputs": [
    {
     "data": {
      "text/html": [
       "\n",
       "            <style>\n",
       "                .geemap-dark {\n",
       "                    --jp-widgets-color: white;\n",
       "                    --jp-widgets-label-color: white;\n",
       "                    --jp-ui-font-color1: white;\n",
       "                    --jp-layout-color2: #454545;\n",
       "                    background-color: #383838;\n",
       "                }\n",
       "\n",
       "                .geemap-dark .jupyter-button {\n",
       "                    --jp-layout-color3: #383838;\n",
       "                }\n",
       "\n",
       "                .geemap-colab {\n",
       "                    background-color: var(--colab-primary-surface-color, white);\n",
       "                }\n",
       "\n",
       "                .geemap-colab .jupyter-button {\n",
       "                    --jp-layout-color3: var(--colab-primary-surface-color, white);\n",
       "                }\n",
       "            </style>\n",
       "            "
      ],
      "text/plain": [
       "<IPython.core.display.HTML object>"
      ]
     },
     "metadata": {},
     "output_type": "display_data"
    }
   ],
   "source": [
    "if not os.path.exists(DATADIR + os.sep + 'lst_mean.tif'):\n",
    "    collectdata = True"
   ]
  },
  {
   "cell_type": "code",
   "execution_count": 56,
   "id": "425aa326",
   "metadata": {},
   "outputs": [
    {
     "data": {
      "text/html": [
       "\n",
       "            <style>\n",
       "                .geemap-dark {\n",
       "                    --jp-widgets-color: white;\n",
       "                    --jp-widgets-label-color: white;\n",
       "                    --jp-ui-font-color1: white;\n",
       "                    --jp-layout-color2: #454545;\n",
       "                    background-color: #383838;\n",
       "                }\n",
       "\n",
       "                .geemap-dark .jupyter-button {\n",
       "                    --jp-layout-color3: #383838;\n",
       "                }\n",
       "\n",
       "                .geemap-colab {\n",
       "                    background-color: var(--colab-primary-surface-color, white);\n",
       "                }\n",
       "\n",
       "                .geemap-colab .jupyter-button {\n",
       "                    --jp-layout-color3: var(--colab-primary-surface-color, white);\n",
       "                }\n",
       "            </style>\n",
       "            "
      ],
      "text/plain": [
       "<IPython.core.display.HTML object>"
      ]
     },
     "metadata": {},
     "output_type": "display_data"
    }
   ],
   "source": [
    "if collectdata:\n",
    "    ee.Authenticate()\n",
    "    ee.Initialize(project=GEPROJECT)    \n",
    "    bologna_fc = geemap.geopandas_to_ee(gdf)\n",
    "    bologna_geom = bologna_fc.geometry()\n",
    "    modis = ee.ImageCollection(\"MODIS/061/MOD11A1\") \\\n",
    "    .filterBounds(bologna_geom) \\\n",
    "    .filterDate(YEAR+\"-06-01\", YEAR+\"-08-31\")\n",
    "\n",
    "    lst_day_modis = modis.select(\"LST_Day_1km\").mean().multiply(0.02).subtract(273.15).rename(\"LST_Day\")\n",
    "    lst_night_modis = modis.select(\"LST_Night_1km\").mean().multiply(0.02).subtract(273.15).rename(\"LST_Night\")\n",
    "    delta_lst = lst_day_modis.subtract(lst_night_modis).rename(\"DeltaLST\")\n",
    "    delta_lst_class = delta_lst.expression(\"(d < 5) ? 3 : (d < 10) ? 2 : 1\", {\"d\": delta_lst}).rename(\"DeltaLSTClass\")\n",
    "    collection = (ee.ImageCollection(\"LANDSAT/LC08/C02/T1_L2\")\n",
    "        .filterBounds(bologna_geom)\n",
    "        .filterDate(YEAR+\"-06-01\", YEAR+\"-08-31\")\n",
    "        .filter(ee.Filter.lt(\"CLOUD_COVER\", 10))\n",
    "        .map(kelvin_to_celsius))\n",
    "    lst_mean = collection.mean().clip(bologna_geom)\n",
    "    mean_dict = lst_mean.reduceRegion(reducer=ee.Reducer.mean(), geometry=bologna_geom, scale=100, maxPixels=1e13)\n",
    "    std_dict = lst_mean.reduceRegion(reducer=ee.Reducer.stdDev(), geometry=bologna_geom, scale=100, maxPixels=1e13)\n",
    "    mean_val = ee.Number(mean_dict.get(\"LST\"))\n",
    "    std_val = ee.Number(std_dict.get(\"LST\"))\n",
    "    z_score = lst_mean.subtract(mean_val).divide(std_val).rename(\"Z\")\n",
    "    classified = z_score.expression(\"(z <= -2.0) ? 1 : (z <= -1.5) ? 2 : (z <= -1.0) ? 3 : (z <= -0.5) ? 4 : \" +\n",
    "                                        \"(z < 0) ? 5 : (z < 0.5) ? 6 : (z < 1.0) ? 7 : (z < 1.5) ? 8 : (z < 2.0) ? 9 : 10\", {\"z\": z_score}).rename(\"Z_class\")\n",
    "\n",
    "    ndvi_collection = (ee.ImageCollection(\"LANDSAT/LC08/C02/T1_L2\")\n",
    "        .filterBounds(bologna_geom)\n",
    "        .filterDate(YEAR+\"-06-01\", YEAR+\"-08-31\")\n",
    "        .filter(ee.Filter.lt(\"CLOUD_COVER\", 10))\n",
    "        .map(compute_ndvi))\n",
    "\n",
    "    ndvi_mean = ndvi_collection.select(\"NDVI\").mean().clip(bologna_geom)\n",
    "    albedo_collection = ndvi_collection.map(compute_albedo)\n",
    "    albedo_mean = albedo_collection.select(\"Albedo\").mean().clip(bologna_geom)\n",
    "    lst_norm = lst_mean.unitScale(30, 50).rename(\"LST_norm\")\n",
    "    ndvi_norm = ndvi_mean.unitScale(0, 0.8).rename(\"NDVI_norm\")\n",
    "    albedo_norm = albedo_mean.unitScale(0.05, 0.35).rename(\"Albedo_norm\")\n",
    "    \n",
    "    heat_veg_index = lst_norm.subtract(ndvi_norm).rename(\"HeatVegIndex\")\n",
    "    heat_retention_index = lst_norm.subtract(albedo_norm).rename(\"HeatRetentionIndex\")\n",
    "    \n",
    "\n",
    "    uhe_index = lst_norm.add(ee.Image(1).subtract(ndvi_norm)) \\\n",
    "                      .add(ee.Image(1).subtract(albedo_norm)) \\\n",
    "                      .rename(\"UrbanHeatExposureIndex\")"
   ]
  },
  {
   "cell_type": "markdown",
   "id": "2b9eb27e",
   "metadata": {},
   "source": [
    "\n",
    "# Calculate Urban Heat Exposure Index (UHEI): LST + (1-NDVI) + (1-Albedo)\n",
    "- This composite score highlights areas with high temperature, low vegetation, and low albedo\n",
    "- Normalization ranges: LST (30–50°C), NDVI (0–0.8), Albedo (0.05–0.35)\n",
    "- Higher UHEI → higher exposure to urban heat conditions"
   ]
  },
  {
   "cell_type": "markdown",
   "id": "2d5df726",
   "metadata": {},
   "source": [
    "## Retrieve MODIS LST (Day/Night) from MOD11A1 – Summer 2024 \n",
    "MODIS Terra (MOD11A1) provides daily 1 km LST for day and night<br/>\n",
    "We'll calculate the difference between day and night to assess heat retention"
   ]
  },
  {
   "cell_type": "code",
   "execution_count": null,
   "id": "1f973f56",
   "metadata": {},
   "outputs": [],
   "source": [
    "\n"
   ]
  },
  {
   "cell_type": "markdown",
   "id": "4c75b914",
   "metadata": {},
   "source": [
    "### Classify ΔLST Day-Night \n",
    "Classify difference into three heat release classes:\n",
    "- Class 1: fast cooling (>10°C)\n",
    "- Class 2: moderate (5–10°C)\n",
    "- Class 3: low cooling (<5°C), i.e. high heat retention"
   ]
  },
  {
   "cell_type": "code",
   "execution_count": null,
   "id": "504295c5",
   "metadata": {},
   "outputs": [],
   "source": []
  },
  {
   "cell_type": "markdown",
   "id": "b7b53fcc",
   "metadata": {},
   "source": [
    "## Retrieve Landsat 8/9 Collection 2 L2 imagery (summer 2024) \n",
    "- Purpose: estimate Land Surface Temperature (LST) from band ST_B10\n",
    "- LST will be used as baseline to analyze surface thermal variability"
   ]
  },
  {
   "cell_type": "code",
   "execution_count": null,
   "id": "ce86ad04",
   "metadata": {},
   "outputs": [],
   "source": [
    "\n"
   ]
  },
  {
   "cell_type": "markdown",
   "id": "49d54f09",
   "metadata": {},
   "source": [
    "### Calculate LST Z-score\n",
    "- Identify statistical anomalies in LST relative to the city's average\n",
    "- Z = (pixel - mean) / std_dev"
   ]
  },
  {
   "cell_type": "code",
   "execution_count": null,
   "id": "74ac9b9b",
   "metadata": {},
   "outputs": [],
   "source": [
    "\n"
   ]
  },
  {
   "cell_type": "markdown",
   "id": "8ac11944",
   "metadata": {},
   "source": [
    "### Classify LST Z-score into 10 classes (5 below, 5 above average) \n",
    "This helps in highlighting both cool and hot zones relative to the norm"
   ]
  },
  {
   "cell_type": "code",
   "execution_count": null,
   "id": "5c005b25",
   "metadata": {},
   "outputs": [],
   "source": []
  },
  {
   "cell_type": "markdown",
   "id": "00e73dcd",
   "metadata": {},
   "source": [
    "##  Compute NDVI (Normalized Difference Vegetation Index) \n",
    "NDVI = (NIR - Red) / (NIR + Red)<br/>\n",
    "Derived from Surface Reflectance bands B5 (NIR) and B4 (Red)<br/>\n",
    "NDVI is used to identify vegetated vs built-up areas"
   ]
  },
  {
   "cell_type": "code",
   "execution_count": null,
   "id": "f746a269",
   "metadata": {},
   "outputs": [],
   "source": []
  },
  {
   "cell_type": "markdown",
   "id": "80c9eb97",
   "metadata": {},
   "source": [
    "## Compute Albedo using Liang (2001) method\n",
    "Albedo is calculated using a weighted sum of Surface Reflectance bands<br>\n",
    "Equation adapted for Landsat 8: B2, B4, B5, B6, B7<br>\n",
    "Result: surface reflectance from 0 (fully absorbent) to 1 (fully reflective)\n"
   ]
  },
  {
   "cell_type": "code",
   "execution_count": null,
   "id": "6b86e2ef",
   "metadata": {},
   "outputs": [],
   "source": [
    "\n"
   ]
  },
  {
   "cell_type": "markdown",
   "id": "a83de8ea",
   "metadata": {},
   "source": [
    "### Normalize LST, NDVI, and Albedo \n",
    "- Normalize LST (30–50°C), NDVI (0–0.8), Albedo (0.05–0.35) to [0, 1] range\n",
    "- Needed for consistent index construction"
   ]
  },
  {
   "cell_type": "code",
   "execution_count": null,
   "id": "e99d13c8",
   "metadata": {},
   "outputs": [],
   "source": [
    "\n"
   ]
  },
  {
   "cell_type": "markdown",
   "id": "4978daf9",
   "metadata": {},
   "source": [
    "## Compute Heat-Vegetation Index \n",
    "High value = hot and poorly vegetated → risk of UHI\n"
   ]
  },
  {
   "cell_type": "code",
   "execution_count": null,
   "id": "bef1f0eb",
   "metadata": {},
   "outputs": [],
   "source": []
  },
  {
   "cell_type": "markdown",
   "id": "d6f09e8f",
   "metadata": {},
   "source": [
    "## Compute Heat Retention Index\n",
    "High value = hot and low albedo → likely to retain heat during night"
   ]
  },
  {
   "cell_type": "code",
   "execution_count": null,
   "id": "8507827b",
   "metadata": {},
   "outputs": [],
   "source": []
  },
  {
   "cell_type": "markdown",
   "id": "a523a753",
   "metadata": {},
   "source": [
    "## Urban Heat Exposure Index (UHEI)"
   ]
  },
  {
   "cell_type": "code",
   "execution_count": null,
   "id": "5e58c391",
   "metadata": {},
   "outputs": [],
   "source": []
  },
  {
   "cell_type": "markdown",
   "id": "c3c2aee6",
   "metadata": {},
   "source": [
    "### Export Raster Outputs as GeoTIFF (clipped to Bologna) \n",
    "Save all indices and classified rasters as GeoTIFFs for further analysis"
   ]
  },
  {
   "cell_type": "code",
   "execution_count": 57,
   "id": "f24f999f",
   "metadata": {},
   "outputs": [
    {
     "data": {
      "text/html": [
       "\n",
       "            <style>\n",
       "                .geemap-dark {\n",
       "                    --jp-widgets-color: white;\n",
       "                    --jp-widgets-label-color: white;\n",
       "                    --jp-ui-font-color1: white;\n",
       "                    --jp-layout-color2: #454545;\n",
       "                    background-color: #383838;\n",
       "                }\n",
       "\n",
       "                .geemap-dark .jupyter-button {\n",
       "                    --jp-layout-color3: #383838;\n",
       "                }\n",
       "\n",
       "                .geemap-colab {\n",
       "                    background-color: var(--colab-primary-surface-color, white);\n",
       "                }\n",
       "\n",
       "                .geemap-colab .jupyter-button {\n",
       "                    --jp-layout-color3: var(--colab-primary-surface-color, white);\n",
       "                }\n",
       "            </style>\n",
       "            "
      ],
      "text/plain": [
       "<IPython.core.display.HTML object>"
      ]
     },
     "metadata": {},
     "output_type": "display_data"
    }
   ],
   "source": [
    "if not os.path.exists(DATADIR + os.sep + 'lst_mean.tif'):\n",
    "    geemap.ee_export_image(lst_mean.clip(bologna_geom), filename=DATADIR + os.sep + 'lst_mean.tif', scale=100, region=bologna_geom)\n",
    "    raster_to_dissolved_geojson(DATADIR + os.sep + 'lst_mean.tif', DATADIR + os.sep + 'lst_mean.geojson')\n",
    "    \n",
    "if not os.path.exists(DATADIR + os.sep + 'z_score.tif'):\n",
    "    geemap.ee_export_image(z_score.clip(bologna_geom), filename=DATADIR + os.sep + 'z_score.tif', scale=100, region=bologna_geom)\n",
    "    raster_to_dissolved_geojson(DATADIR + os.sep + 'z_score.tif', DATADIR + os.sep + 'z_score.geojson')\n",
    "    \n",
    "if not os.path.exists(DATADIR + os.sep + 'z_score_class.tif'):\n",
    "    geemap.ee_export_image(classified.clip(bologna_geom), filename=DATADIR + os.sep + 'z_score_class.tif', scale=100, region=bologna_geom)\n",
    "    raster_to_dissolved_geojson(DATADIR + os.sep + 'z_score_class.tif', DATADIR + os.sep + 'z_score_class.geojson')\n",
    "    \n",
    "if not os.path.exists(DATADIR + os.sep + 'ndvi_mean.tif'):\n",
    "    geemap.ee_export_image(ndvi_mean.clip(bologna_geom), filename=DATADIR + os.sep + 'ndvi_mean.tif', scale=30, region=bologna_geom)\n",
    "    raster_to_dissolved_geojson(DATADIR + os.sep + 'ndvi_mean.tif', DATADIR + os.sep + 'ndvi_mean.geojson')\n",
    "    \n",
    "if not os.path.exists(DATADIR + os.sep + 'albedo_mean.tif'):\n",
    "    geemap.ee_export_image(albedo_mean.clip(bologna_geom), filename=DATADIR + os.sep + 'albedo_mean.tif', scale=30, region=bologna_geom)\n",
    "    raster_to_dissolved_geojson(DATADIR + os.sep + 'albedo_mean.tif', DATADIR + os.sep + 'albedo_mean.geojson')\n",
    "\n",
    "if not os.path.exists(DATADIR + os.sep + 'heat_veg_index.tif'):\n",
    "    geemap.ee_export_image(heat_veg_index.clip(bologna_geom), filename=DATADIR + os.sep + 'heat_veg_index.tif', scale=100, region=bologna_geom)\n",
    "    raster_to_dissolved_geojson(DATADIR + os.sep + 'heat_veg_index.tif', DATADIR + os.sep + 'heat_veg_index.geojson')\n",
    "\n",
    "if not os.path.exists(DATADIR + os.sep + 'heat_retention_index.tif'):\n",
    "    geemap.ee_export_image(heat_retention_index.clip(bologna_geom), filename=DATADIR + os.sep + 'heat_retention_index.tif', scale=100, region=bologna_geom)\n",
    "    raster_to_dissolved_geojson(DATADIR + os.sep + 'heat_retention_index.tif', DATADIR + os.sep + 'heat_retention_index.geojson')\n",
    "\n",
    "if not os.path.exists(DATADIR + os.sep + 'lst_day_modis.tif'):\n",
    "    geemap.ee_export_image(lst_day_modis.clip(bologna_geom), filename=DATADIR + os.sep + 'lst_day_modis.tif', scale=1000, region=bologna_geom)\n",
    "    raster_to_dissolved_geojson(DATADIR + os.sep + 'lst_day_modis.tif', DATADIR + os.sep + 'lst_day_modis.geojson')\n",
    "\n",
    "if not os.path.exists(DATADIR + os.sep + 'lst_night_modis.tif'):\n",
    "    geemap.ee_export_image(lst_night_modis.clip(bologna_geom), filename=DATADIR + os.sep + 'lst_night_modis.tif', scale=1000, region=bologna_geom)\n",
    "    raster_to_dissolved_geojson(DATADIR + os.sep + 'lst_night_modis.tif', DATADIR + os.sep + 'lst_night_modis.geojson')\n",
    "\n",
    "if not os.path.exists(DATADIR + os.sep + 'delta_lst.tif'):\n",
    "    geemap.ee_export_image(delta_lst.clip(bologna_geom), filename=DATADIR + os.sep + 'delta_lst.tif', scale=1000, region=bologna_geom)\n",
    "    raster_to_dissolved_geojson(DATADIR + os.sep + 'delta_lst.tif', DATADIR + os.sep + 'delta_lst.geojson')\n",
    "\n",
    "if not os.path.exists(DATADIR + os.sep + 'delta_lst_class.tif'):\n",
    "    geemap.ee_export_image(delta_lst_class.clip(bologna_geom), filename=DATADIR + os.sep + 'delta_lst_class.tif', scale=1000, region=bologna_geom)\n",
    "    raster_to_dissolved_geojson(DATADIR + os.sep + 'delta_lst_class.tif', DATADIR + os.sep + 'delta_lst_class.geojson')\n",
    "    \n",
    "if not os.path.exists(DATADIR + os.sep + 'urban_heat_exposure_index.tif'):    \n",
    "    geemap.ee_export_image(uhe_index.clip(bologna_geom), filename=DATADIR + os.sep + 'urban_heat_exposure_index.tif', scale=100, region=bologna_geom)\n",
    "    raster_to_dissolved_geojson(DATADIR + os.sep + 'urban_heat_exposure_index.tif', DATADIR + os.sep + 'urban_heat_exposure_index.geojson')\n",
    "if not os.path.exists(DATADIR + os.sep + 'urban_heat_exposure_index.tif'):\n",
    "    geemap.ee_export_image(uhe_index.clip(bologna_geom), filename=DATADIR + os.sep + 'urban_heat_exposure_index.tif', scale=100, region=bologna_geom)\n",
    "    raster_to_dissolved_geojson(DATADIR + os.sep + 'urban_heat_exposure_index.tif', DATADIR + os.sep + 'urban_heat_exposure_index.geojson')\n",
    "if not os.path.exists(DATADIR + os.sep + 'heat_retention_index.tif'):\n",
    "    geemap.ee_export_image(heat_retention_index.clip(bologna_geom), filename=DATADIR + os.sep + 'heat_retention_index.tif', scale=100, region=bologna_geom)\n",
    "    raster_to_dissolved_geojson(DATADIR + os.sep + 'heat_retention_index.tif', DATADIR + os.sep + 'heat_retention_index.geojson')\n"
   ]
  },
  {
   "cell_type": "code",
   "execution_count": 58,
   "id": "561ed6d9",
   "metadata": {},
   "outputs": [
    {
     "data": {
      "text/html": [
       "\n",
       "            <style>\n",
       "                .geemap-dark {\n",
       "                    --jp-widgets-color: white;\n",
       "                    --jp-widgets-label-color: white;\n",
       "                    --jp-ui-font-color1: white;\n",
       "                    --jp-layout-color2: #454545;\n",
       "                    background-color: #383838;\n",
       "                }\n",
       "\n",
       "                .geemap-dark .jupyter-button {\n",
       "                    --jp-layout-color3: #383838;\n",
       "                }\n",
       "\n",
       "                .geemap-colab {\n",
       "                    background-color: var(--colab-primary-surface-color, white);\n",
       "                }\n",
       "\n",
       "                .geemap-colab .jupyter-button {\n",
       "                    --jp-layout-color3: var(--colab-primary-surface-color, white);\n",
       "                }\n",
       "            </style>\n",
       "            "
      ],
      "text/plain": [
       "<IPython.core.display.HTML object>"
      ]
     },
     "metadata": {},
     "output_type": "display_data"
    },
    {
     "name": "stdout",
     "output_type": "stream",
     "text": [
      "Converting lst_mean.geojson → lst_mean.topojson\n"
     ]
    },
    {
     "name": "stderr",
     "output_type": "stream",
     "text": [
      "[simplify] Repaired 0 intersections; 228 intersections could not be repaired\n",
      "[o] Wrote docs/topojson/lst_mean.topojson\n"
     ]
    },
    {
     "name": "stdout",
     "output_type": "stream",
     "text": [
      "Converting delta_lst_class.geojson → delta_lst_class.topojson\n",
      "Converting lst_day_modis.geojson → lst_day_modis.topojson\n",
      "Converting albedo_mean.geojson → albedo_mean.topojson\n"
     ]
    },
    {
     "name": "stderr",
     "output_type": "stream",
     "text": [
      "[o] Wrote docs/topojson/delta_lst_class.topojson\n",
      "[simplify] Repaired 0 intersections; 175 intersections could not be repaired\n",
      "[o] Wrote docs/topojson/lst_day_modis.topojson\n",
      "[simplify] Repaired 0 intersections; 38,879 intersections could not be repaired\n",
      "[o] Wrote docs/topojson/albedo_mean.topojson\n"
     ]
    },
    {
     "name": "stdout",
     "output_type": "stream",
     "text": [
      "Converting z_score_class.geojson → z_score_class.topojson\n"
     ]
    },
    {
     "name": "stderr",
     "output_type": "stream",
     "text": [
      "[simplify] Repaired 10 intersections; 7,086 intersections could not be repaired\n",
      "[o] Wrote docs/topojson/z_score_class.topojson\n",
      "[simplify] Repaired 0 intersections; 175 intersections could not be repaired\n",
      "[o] Wrote docs/topojson/delta_lst.topojson\n"
     ]
    },
    {
     "name": "stdout",
     "output_type": "stream",
     "text": [
      "Converting delta_lst.geojson → delta_lst.topojson\n",
      "Converting heat_retention_index.geojson → heat_retention_index.topojson\n"
     ]
    },
    {
     "name": "stderr",
     "output_type": "stream",
     "text": [
      "[o] Wrote docs/topojson/heat_retention_index.topojson\n"
     ]
    },
    {
     "name": "stdout",
     "output_type": "stream",
     "text": [
      "Converting z_score.geojson → z_score.topojson\n"
     ]
    },
    {
     "name": "stderr",
     "output_type": "stream",
     "text": [
      "[simplify] Repaired 0 intersections; 228 intersections could not be repaired\n",
      "[o] Wrote docs/topojson/z_score.topojson\n"
     ]
    },
    {
     "name": "stdout",
     "output_type": "stream",
     "text": [
      "Converting ndvi_mean.geojson → ndvi_mean.topojson\n"
     ]
    },
    {
     "name": "stderr",
     "output_type": "stream",
     "text": [
      "[simplify] Repaired 0 intersections; 38,847 intersections could not be repaired\n",
      "[o] Wrote docs/topojson/ndvi_mean.topojson\n"
     ]
    },
    {
     "name": "stdout",
     "output_type": "stream",
     "text": [
      "Converting urban_heat_exposure_index.geojson → urban_heat_exposure_index.topojson\n"
     ]
    },
    {
     "name": "stderr",
     "output_type": "stream",
     "text": [
      "[o] Wrote docs/topojson/urban_heat_exposure_index.topojson\n"
     ]
    },
    {
     "name": "stdout",
     "output_type": "stream",
     "text": [
      "Converting heat_veg_index.geojson → heat_veg_index.topojson\n",
      "Converting lst_night_modis.geojson → lst_night_modis.topojson\n"
     ]
    },
    {
     "name": "stderr",
     "output_type": "stream",
     "text": [
      "[o] Wrote docs/topojson/heat_veg_index.topojson\n",
      "[simplify] Repaired 0 intersections; 175 intersections could not be repaired\n",
      "[o] Wrote docs/topojson/lst_night_modis.topojson\n"
     ]
    }
   ],
   "source": [
    "import subprocess\n",
    "\n",
    "input_dir = DATADIR\n",
    "output_dir = \"docs/topojson\"\n",
    "os.makedirs(output_dir, exist_ok=True)\n",
    "\n",
    "for filename in os.listdir(input_dir):\n",
    "    if filename.endswith(\".geojson\"):\n",
    "        input_path = os.path.join(input_dir, filename)\n",
    "        output_filename = os.path.splitext(filename)[0] + \".topojson\"\n",
    "        output_path = os.path.join(output_dir, output_filename)\n",
    "\n",
    "        cmd = [\n",
    "            \"mapshaper\",\n",
    "            input_path,\n",
    "            \"-simplify\", \"10%\",  # puoi rimuoverlo se vuoi alta fedeltà\n",
    "            \"-o\", f\"format=topojson\", output_path\n",
    "        ]\n",
    "        print(f\"Converting {filename} → {output_filename}\")\n",
    "        subprocess.run(cmd)\n"
   ]
  },
  {
   "cell_type": "markdown",
   "id": "2bcf222e",
   "metadata": {},
   "source": [
    "## Visualize Layers on Interactive Map\n",
    "- Display the key indices and classified maps on an interactive map\n",
    "- Each layer includes an appropriate color palette for interpretation"
   ]
  },
  {
   "cell_type": "code",
   "execution_count": 59,
   "id": "7b04c3da",
   "metadata": {},
   "outputs": [
    {
     "data": {
      "text/html": [
       "\n",
       "            <style>\n",
       "                .geemap-dark {\n",
       "                    --jp-widgets-color: white;\n",
       "                    --jp-widgets-label-color: white;\n",
       "                    --jp-ui-font-color1: white;\n",
       "                    --jp-layout-color2: #454545;\n",
       "                    background-color: #383838;\n",
       "                }\n",
       "\n",
       "                .geemap-dark .jupyter-button {\n",
       "                    --jp-layout-color3: #383838;\n",
       "                }\n",
       "\n",
       "                .geemap-colab {\n",
       "                    background-color: var(--colab-primary-surface-color, white);\n",
       "                }\n",
       "\n",
       "                .geemap-colab .jupyter-button {\n",
       "                    --jp-layout-color3: var(--colab-primary-surface-color, white);\n",
       "                }\n",
       "            </style>\n",
       "            "
      ],
      "text/plain": [
       "<IPython.core.display.HTML object>"
      ]
     },
     "metadata": {},
     "output_type": "display_data"
    },
    {
     "data": {
      "application/vnd.jupyter.widget-view+json": {
       "model_id": "4b2ff7e679e04df8817d6ae8752160b9",
       "version_major": 2,
       "version_minor": 0
      },
      "text/plain": [
       "VBox(children=(Map(center=[44.5, 11.3], controls=(ZoomControl(options=['position', 'zoom_in_text', 'zoom_in_ti…"
      ]
     },
     "execution_count": 59,
     "metadata": {},
     "output_type": "execute_result"
    }
   ],
   "source": [
    "# Cartella dei file\n",
    "geojson_dir = \"docs/topojson\"\n",
    "output_dir = \"docs\"\n",
    "os.makedirs(output_dir, exist_ok=True)\n",
    "\n",
    "# Layer da visualizzare con file e colori\n",
    "layers = [\n",
    "    {\"name\": \"Albedo\", \"file\": \"albedo_mean.topojson\", \"colors\": [\"#000000\", \"#555555\", \"#aaaaaa\", \"#ffffff\"], \"legend\": \"Albedo\"},\n",
    "    {\"name\": \"LST Mean\", \"file\": \"lst_mean.topojson\", \"colors\": [\"#ffffb2\", \"#fecc5c\", \"#fd8d3c\", \"#f03b20\", \"#bd0026\"], \"legend\": \"Temperatura media\"},\n",
    "    {\"name\": \"Δ LST\", \"file\": \"delta_lst.topojson\", \"colors\": [\"#add8e6\", \"#87ceeb\", \"#4682b4\"], \"legend\": \"Δ LST (MODIS)\"},\n",
    "    {\"name\": \"Δ LST Classes\", \"file\": \"delta_lst_class.topojson\", \"colors\": [\"#add8e6\", \"#ffa500\", \"#ff0000\"], \"legend\": \"Δ LST: differenza giorno/notte\"},\n",
    "    {\"name\": \"LST Night (MODIS)\", \"file\": \"lst_night_modis.topojson\", \"colors\": [\"#d0d1e6\", \"#a6bddb\", \"#74a9cf\", \"#2b8cbe\", \"#045a8d\"], \"legend\": \"LST notte\"},\n",
    "    {\"name\": \"LST Day (MODIS)\", \"file\": \"lst_day_modis.topojson\", \"colors\": [\"#ffffb2\", \"#fecc5c\", \"#fd8d3c\", \"#f03b20\", \"#bd0026\"], \"legend\": \"LST giorno\"},\n",
    "    {\"name\": \"NDVI\", \"file\": \"ndvi_mean.topojson\", \"colors\": [\"#f7fcf5\", \"#e5f5e0\", \"#c7e9c0\", \"#a1d99b\", \"#74c476\", \"#41ab5d\", \"#238b45\", \"#006d2c\", \"#00441b\"], \"legend\": \"NDVI\"},\n",
    "    {\"name\": \"Z-Score\", \"file\": \"z_score.topojson\", \"colors\": [\"#313695\", \"#4575b4\", \"#74add1\", \"#abd9e9\", \"#e0f3f8\", \"#fee090\", \"#fdae61\", \"#f46d43\", \"#d73027\", \"#a50026\"], \"legend\": \"Z-score LST\"},\n",
    "    {\"name\": \"Z-Score Classes\", \"file\": \"z_score_class.topojson\", \"colors\": [\"#313695\", \"#4575b4\", \"#74add1\", \"#abd9e9\", \"#e0f3f8\", \"#fee090\", \"#fdae61\", \"#f46d43\", \"#d73027\", \"#a50026\"], \"legend\": \"Z-Score (cold → hot)\"},\n",
    "    {\"name\": \"Heat-Vegetation Index\", \"file\": \"heat_veg_index.topojson\", \"colors\": [\"#00ff00\", \"#aaff00\", \"#ffff00\", \"#ffaa00\", \"#ff0000\"], \"legend\": \"Heat-Vegetation Index\"},\n",
    "    {\"name\": \"Heat Retention Index\", \"file\": \"heat_retention_index.topojson\", \"colors\": [\"#0000ff\", \"#4169e1\", \"#87cefa\", \"#ffffe0\", \"#ffd700\", \"#ff8c00\", \"#ff4500\", \"#ff0000\"], \"legend\": \"Ritenzione del calore\"},\n",
    "    {\"name\": \"Urban Heat Exposure Index\", \"file\": \"urban_heat_exposure_index.topojson\", \"colors\": [\"#ffffcc\", \"#ffeda0\", \"#feb24c\", \"#fd8d3c\", \"#f03b20\", \"#bd0026\"], \"legend\": \"Indice composito di esposizione al calore\"}\n",
    "]\n",
    "\n",
    "# Funzione per creare e salvare una mappa HTML per ciascun layer\n",
    "\n",
    "def create_map(layer_info):\n",
    "    path = os.path.join(geojson_dir, layer_info[\"file\"])\n",
    "    with open(path, \"r\", encoding=\"utf-8\") as f:\n",
    "        topojson_data = json.load(f)\n",
    "\n",
    "    m = Map(center=(44.5, 11.3), zoom=12)\n",
    "\n",
    "    # Estrai valori per generare la legenda\n",
    "    geometries = list(topojson_data[\"objects\"].values())[0][\"geometries\"]\n",
    "    values = [g[\"properties\"].get(\"value\") for g in geometries if g.get(\"properties\")]\n",
    "\n",
    "    def safe_float(v):\n",
    "        try:\n",
    "            return float(v)\n",
    "        except (ValueError, TypeError):\n",
    "            return v\n",
    "\n",
    "    unique_values = sorted(set(values), key=safe_float)\n",
    "    color_map = {v: layer_info[\"colors\"][i % len(layer_info[\"colors\"])] for i, v in enumerate(unique_values)}\n",
    "\n",
    "    # Stile e mappa\n",
    "    gj = GeoJSON(data=topojson_data, name=layer_info['name'], style={\n",
    "        \"color\": None,\n",
    "        \"fillColor\": \"red\",\n",
    "        \"weight\": 0,\n",
    "        \"fillOpacity\": 0.6\n",
    "    }, hover_style={\n",
    "        \"fillOpacity\": 0.9\n",
    "    }, style_callback=lambda f: {\n",
    "        \"fillColor\": color_map.get(f[\"properties\"].get(\"value\"), \"gray\"),\n",
    "        \"color\": color_map.get(f[\"properties\"].get(\"value\"), \"gray\"),\n",
    "        \"weight\": 0,\n",
    "        \"fillOpacity\": 0.6\n",
    "    })\n",
    "\n",
    "    out = Output()\n",
    "    def on_hover(properties, **kwargs):\n",
    "        with out:\n",
    "            out.clear_output()\n",
    "            if properties:\n",
    "                print(\"→\", properties.get(\"value\"))\n",
    "\n",
    "    gj.on_hover(on_hover)\n",
    "\n",
    "    m.add_layer(gj)\n",
    "    m.add_control(LayersControl(position='topright'))\n",
    "    m.add_control(WidgetControl(widget=out, position='bottomright'))\n",
    "\n",
    "    legend_html = \"\".join(\n",
    "        f\"<div><span style='background:{color};width:12px;height:12px;display:inline-block;margin-right:6px'></span>{val}</div>\"\n",
    "        for val, color in color_map.items())\n",
    "    legend = HTML(value=f\"\"\"\n",
    "    <div style='background:white;padding:10px;border:1px solid #ccc;font-size:13px'>\n",
    "        <strong>{layer_info['legend']}</strong><br>{legend_html}\n",
    "    </div>\"\"\")\n",
    "    m.add_control(WidgetControl(widget=legend, position='topright'))\n",
    "\n",
    "    # Salva la mappa in HTML\n",
    "    basename = os.path.splitext(layer_info[\"file\"])[0]\n",
    "    m.save(os.path.join(output_dir, f\"{basename}.html\"))\n",
    "    return m\n",
    "\n",
    "maps = [create_map(layer) for layer in layers]\n",
    "\n",
    "VBox(maps)\n"
   ]
  }
 ],
 "metadata": {
  "kernelspec": {
   "display_name": "Python 3",
   "language": "python",
   "name": "python3"
  },
  "language_info": {
   "codemirror_mode": {
    "name": "ipython",
    "version": 3
   },
   "file_extension": ".py",
   "mimetype": "text/x-python",
   "name": "python",
   "nbconvert_exporter": "python",
   "pygments_lexer": "ipython3",
   "version": "3.13.3"
  }
 },
 "nbformat": 4,
 "nbformat_minor": 5
}
