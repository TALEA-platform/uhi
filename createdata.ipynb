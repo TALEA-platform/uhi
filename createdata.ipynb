{
 "cells": [
  {
   "cell_type": "markdown",
   "id": "c1bf6293",
   "metadata": {},
   "source": [
    "# Urban Heat Island Analysis – Bologna\n",
    "\n",
    "This notebook performs a comprehensive geospatial analysis to identify and classify Urban Heat Island (UHI) effects in the city of Bologna, Italy, using satellite data and derived indices.\n",
    "\n",
    "## Process Overview\n",
    "\n",
    "###  Index Summary\n",
    "\n",
    "All files are saved in both `.tif` and `.geojson` formats, clipped to the Bologna boundary.\n",
    "\n",
    "| Index | Description | File name (no extension) |\n",
    "|-------|-------------|----------------------------|\n",
    "| **LST** | Land Surface Temperature derived from Landsat ST_B10 | lst_mean |\n",
    "| **Z-score of LST** | Standardized anomaly of LST to detect relative hot/cold zones | z_score |\n",
    "| **NDVI** | Normalized Difference Vegetation Index from bands B4/B5 | ndvi_mean |\n",
    "| **Albedo** | Surface reflectivity index (Liang, 2001) using bands B2-B7 | albedo_mean |\n",
    "| **Heat-Vegetation Index** | LST_norm – NDVI_norm, shows lack of vegetative cooling | heat_veg_index |\n",
    "| **Heat Retention Index** | LST_norm – Albedo_norm, shows capacity to retain heat | heat_retention_index |\n",
    "| **MODIS ΔLST** | Day-Night temperature difference from MODIS | delta_lst |\n",
    "| **ΔLST Classes** | Classification of ΔLST: high, medium, low delta | delta_lst_class |\n",
    "| **Urban Heat Exposure Index (UHEI)** | Composite index: LST + (1 – NDVI) + (1 – Albedo) | urban_heat_exposure_index | Composite index: LST + (1 – NDVI) + (1 – Albedo) | urban_heat_exposure_index |\n",
    "\n",
    "1. **Load AOI (Bologna)** from precise administrative boundary (GeoJSON)\n",
    "2. **Retrieve satellite datasets**:\n",
    "   - **Landsat 8/9 SR** for LST, NDVI, and Albedo (summer 2024)\n",
    "   - **MODIS LST** for day/night surface temperature (summer 2024)\n",
    "3. **Calculate indices**:\n",
    "   - **LST (Land Surface Temperature)**: from ST_B10 (Landsat)\n",
    "   - **Z-score of LST**: statistical anomaly per pixel\n",
    "   - **NDVI**: vegetation index from SR_B4 and SR_B5\n",
    "   - **Albedo**: surface reflectance from SR_B2, B4, B5, B6, B7 using Liang (2001) coefficients [1]\n",
    "   - **Heat-Vegetation Index**: LST norm – NDVI norm\n",
    "   - **Heat Retention Index**: LST norm – Albedo norm\n",
    "   - **MODIS ΔLST (Day – Night)** and its classification\n",
    "   - **Urban Heat Exposure Index (UHEI)**: composite score LST + (1 – NDVI) + (1 – Albedo)\n",
    "4. **Classify and export outputs**:\n",
    "   - Classify Z-score, Albedo, ΔLST\n",
    "   - Export all outputs as raster and GeoJSON (dissolved)\n",
    "\n",
    "📚 **Reference**\n",
    "\n",
    "[1] Liang, S. (2001). *Narrowband to broadband conversions of land surface albedo I: Algorithms*. Remote Sensing of Environment, 76(2), 213–238.  \n",
    "https://doi.org/10.1016/S0034-4257(00)00205-4"
   ]
  },
  {
   "cell_type": "code",
   "execution_count": 135,
   "id": "bcdb2a83",
   "metadata": {},
   "outputs": [
    {
     "data": {
      "text/html": [
       "\n",
       "            <style>\n",
       "                .geemap-dark {\n",
       "                    --jp-widgets-color: white;\n",
       "                    --jp-widgets-label-color: white;\n",
       "                    --jp-ui-font-color1: white;\n",
       "                    --jp-layout-color2: #454545;\n",
       "                    background-color: #383838;\n",
       "                }\n",
       "\n",
       "                .geemap-dark .jupyter-button {\n",
       "                    --jp-layout-color3: #383838;\n",
       "                }\n",
       "\n",
       "                .geemap-colab {\n",
       "                    background-color: var(--colab-primary-surface-color, white);\n",
       "                }\n",
       "\n",
       "                .geemap-colab .jupyter-button {\n",
       "                    --jp-layout-color3: var(--colab-primary-surface-color, white);\n",
       "                }\n",
       "            </style>\n",
       "            "
      ],
      "text/plain": [
       "<IPython.core.display.HTML object>"
      ]
     },
     "metadata": {},
     "output_type": "display_data"
    }
   ],
   "source": [
    "import ee\n",
    "import os\n",
    "import geemap\n",
    "import geopandas as gpd\n",
    "import numpy as np\n",
    "import pandas as pd\n",
    "import matplotlib.pyplot as plt\n",
    "import seaborn as sns\n",
    "import rasterio\n",
    "from rasterio import features\n",
    "from shapely.geometry import shape\n",
    "from shapely.ops import unary_union\n",
    "import json\n",
    "from shapely.geometry import MultiPolygon\n",
    "from rasterio.features import shapes\n",
    "from shapely.geometry import MultiPolygon\n",
    "from shapely.ops import unary_union, polygonize\n",
    "import maplibre\n",
    "from ipyleaflet import Map, GeoJSON, LayersControl, WidgetControl\n",
    "from ipywidgets import HTML, FloatSlider, VBox, Output\n",
    "import matplotlib.pyplot as plt\n",
    "import matplotlib.cm as cm\n",
    "import matplotlib.colors as mcolors\n",
    "import copy\n",
    "from sklearn.preprocessing import KBinsDiscretizer\n",
    "from rasterio.features import rasterize\n",
    "\n"
   ]
  },
  {
   "cell_type": "code",
   "execution_count": 136,
   "id": "8f82476b",
   "metadata": {},
   "outputs": [
    {
     "data": {
      "text/html": [
       "\n",
       "            <style>\n",
       "                .geemap-dark {\n",
       "                    --jp-widgets-color: white;\n",
       "                    --jp-widgets-label-color: white;\n",
       "                    --jp-ui-font-color1: white;\n",
       "                    --jp-layout-color2: #454545;\n",
       "                    background-color: #383838;\n",
       "                }\n",
       "\n",
       "                .geemap-dark .jupyter-button {\n",
       "                    --jp-layout-color3: #383838;\n",
       "                }\n",
       "\n",
       "                .geemap-colab {\n",
       "                    background-color: var(--colab-primary-surface-color, white);\n",
       "                }\n",
       "\n",
       "                .geemap-colab .jupyter-button {\n",
       "                    --jp-layout-color3: var(--colab-primary-surface-color, white);\n",
       "                }\n",
       "            </style>\n",
       "            "
      ],
      "text/plain": [
       "<IPython.core.display.HTML object>"
      ]
     },
     "metadata": {},
     "output_type": "display_data"
    }
   ],
   "source": [
    "DATADIR=\"data\"\n",
    "os.makedirs(DATADIR, exist_ok=True)\n",
    "BOUNDARY = \"bologna_borders.geojson\"\n",
    "YEAR= \"2024\"\n",
    "GEPROJECT= 'ndvi-423516'"
   ]
  },
  {
   "cell_type": "code",
   "execution_count": 137,
   "id": "0e033c51",
   "metadata": {},
   "outputs": [
    {
     "data": {
      "text/html": [
       "\n",
       "            <style>\n",
       "                .geemap-dark {\n",
       "                    --jp-widgets-color: white;\n",
       "                    --jp-widgets-label-color: white;\n",
       "                    --jp-ui-font-color1: white;\n",
       "                    --jp-layout-color2: #454545;\n",
       "                    background-color: #383838;\n",
       "                }\n",
       "\n",
       "                .geemap-dark .jupyter-button {\n",
       "                    --jp-layout-color3: #383838;\n",
       "                }\n",
       "\n",
       "                .geemap-colab {\n",
       "                    background-color: var(--colab-primary-surface-color, white);\n",
       "                }\n",
       "\n",
       "                .geemap-colab .jupyter-button {\n",
       "                    --jp-layout-color3: var(--colab-primary-surface-color, white);\n",
       "                }\n",
       "            </style>\n",
       "            "
      ],
      "text/plain": [
       "<IPython.core.display.HTML object>"
      ]
     },
     "metadata": {},
     "output_type": "display_data"
    }
   ],
   "source": [
    "def kelvin_to_celsius(img):\n",
    "    return img.select(\"ST_B10\").multiply(0.00341802).add(149.0).subtract(273.15).rename(\"LST\")"
   ]
  },
  {
   "cell_type": "code",
   "execution_count": 138,
   "id": "47d19b1a",
   "metadata": {},
   "outputs": [
    {
     "data": {
      "text/html": [
       "\n",
       "            <style>\n",
       "                .geemap-dark {\n",
       "                    --jp-widgets-color: white;\n",
       "                    --jp-widgets-label-color: white;\n",
       "                    --jp-ui-font-color1: white;\n",
       "                    --jp-layout-color2: #454545;\n",
       "                    background-color: #383838;\n",
       "                }\n",
       "\n",
       "                .geemap-dark .jupyter-button {\n",
       "                    --jp-layout-color3: #383838;\n",
       "                }\n",
       "\n",
       "                .geemap-colab {\n",
       "                    background-color: var(--colab-primary-surface-color, white);\n",
       "                }\n",
       "\n",
       "                .geemap-colab .jupyter-button {\n",
       "                    --jp-layout-color3: var(--colab-primary-surface-color, white);\n",
       "                }\n",
       "            </style>\n",
       "            "
      ],
      "text/plain": [
       "<IPython.core.display.HTML object>"
      ]
     },
     "metadata": {},
     "output_type": "display_data"
    }
   ],
   "source": [
    "def compute_ndvi(img):\n",
    "    sr = img.select([\"SR_B5\", \"SR_B4\"]).multiply(0.0000275).add(-0.2)\n",
    "    ndvi = sr.normalizedDifference([\"SR_B5\", \"SR_B4\"]).rename(\"NDVI\")\n",
    "    return img.addBands(ndvi)"
   ]
  },
  {
   "cell_type": "code",
   "execution_count": 139,
   "id": "6aca4576",
   "metadata": {},
   "outputs": [
    {
     "data": {
      "text/html": [
       "\n",
       "            <style>\n",
       "                .geemap-dark {\n",
       "                    --jp-widgets-color: white;\n",
       "                    --jp-widgets-label-color: white;\n",
       "                    --jp-ui-font-color1: white;\n",
       "                    --jp-layout-color2: #454545;\n",
       "                    background-color: #383838;\n",
       "                }\n",
       "\n",
       "                .geemap-dark .jupyter-button {\n",
       "                    --jp-layout-color3: #383838;\n",
       "                }\n",
       "\n",
       "                .geemap-colab {\n",
       "                    background-color: var(--colab-primary-surface-color, white);\n",
       "                }\n",
       "\n",
       "                .geemap-colab .jupyter-button {\n",
       "                    --jp-layout-color3: var(--colab-primary-surface-color, white);\n",
       "                }\n",
       "            </style>\n",
       "            "
      ],
      "text/plain": [
       "<IPython.core.display.HTML object>"
      ]
     },
     "metadata": {},
     "output_type": "display_data"
    }
   ],
   "source": [
    "def compute_albedo(img):\n",
    "    sr = img.multiply(0.0000275).add(-0.2)\n",
    "    b2 = sr.select(\"SR_B2\")\n",
    "    b4 = sr.select(\"SR_B4\")\n",
    "    b5 = sr.select(\"SR_B5\")\n",
    "    b6 = sr.select(\"SR_B6\")\n",
    "    b7 = sr.select(\"SR_B7\")\n",
    "    albedo = (b2.multiply(0.356)\n",
    "                .add(b4.multiply(0.130))\n",
    "                .add(b5.multiply(0.373))\n",
    "                .add(b6.multiply(0.085))\n",
    "                .add(b7.multiply(0.072))\n",
    "                .subtract(0.0018))\n",
    "    return img.addBands(albedo.rename(\"Albedo\"))"
   ]
  },
  {
   "cell_type": "code",
   "execution_count": 140,
   "id": "23af1ec8",
   "metadata": {},
   "outputs": [
    {
     "data": {
      "text/html": [
       "\n",
       "            <style>\n",
       "                .geemap-dark {\n",
       "                    --jp-widgets-color: white;\n",
       "                    --jp-widgets-label-color: white;\n",
       "                    --jp-ui-font-color1: white;\n",
       "                    --jp-layout-color2: #454545;\n",
       "                    background-color: #383838;\n",
       "                }\n",
       "\n",
       "                .geemap-dark .jupyter-button {\n",
       "                    --jp-layout-color3: #383838;\n",
       "                }\n",
       "\n",
       "                .geemap-colab {\n",
       "                    background-color: var(--colab-primary-surface-color, white);\n",
       "                }\n",
       "\n",
       "                .geemap-colab .jupyter-button {\n",
       "                    --jp-layout-color3: var(--colab-primary-surface-color, white);\n",
       "                }\n",
       "            </style>\n",
       "            "
      ],
      "text/plain": [
       "<IPython.core.display.HTML object>"
      ]
     },
     "metadata": {},
     "output_type": "display_data"
    }
   ],
   "source": [
    "def raster_to_geojson(raster_path, geojson_path,ingdf_boundary,dissolve=False):\n",
    "    with rasterio.open(raster_path) as src:\n",
    "        image = src.read(1)\n",
    "        mask = image != src.nodata\n",
    "        results = (\n",
    "            {'properties': {'value': str(v)}, 'geometry': shape(s)}\n",
    "            for s, v in shapes(image, mask=mask, transform=src.transform)\n",
    "        )\n",
    "        gdf = gpd.GeoDataFrame.from_features(list(results), crs=src.crs)\n",
    "        if dissolve:\n",
    "            gdf = gdf.dissolve(by='value').reset_index()\n",
    "       \n",
    "        if ingdf_boundary is not None:\n",
    "            gdf = gpd.overlay(gdf, ingdf_boundary, how='intersection')\n",
    "        gdf = gdf[['value', 'geometry']]\n",
    "        gdf.to_file(geojson_path, driver='GeoJSON')"
   ]
  },
  {
   "cell_type": "code",
   "execution_count": 141,
   "id": "184bdb35",
   "metadata": {},
   "outputs": [
    {
     "data": {
      "text/html": [
       "\n",
       "            <style>\n",
       "                .geemap-dark {\n",
       "                    --jp-widgets-color: white;\n",
       "                    --jp-widgets-label-color: white;\n",
       "                    --jp-ui-font-color1: white;\n",
       "                    --jp-layout-color2: #454545;\n",
       "                    background-color: #383838;\n",
       "                }\n",
       "\n",
       "                .geemap-dark .jupyter-button {\n",
       "                    --jp-layout-color3: #383838;\n",
       "                }\n",
       "\n",
       "                .geemap-colab {\n",
       "                    background-color: var(--colab-primary-surface-color, white);\n",
       "                }\n",
       "\n",
       "                .geemap-colab .jupyter-button {\n",
       "                    --jp-layout-color3: var(--colab-primary-surface-color, white);\n",
       "                }\n",
       "            </style>\n",
       "            "
      ],
      "text/plain": [
       "<IPython.core.display.HTML object>"
      ]
     },
     "metadata": {},
     "output_type": "display_data"
    }
   ],
   "source": [
    "def geojson_to_raster(gdf, raster_path,field='value',crs=\"None\",resolution=0.0001):\n",
    "    # defalt resolution in degrees (adjust as needed)\n",
    "    if crs != \"None\":\n",
    "        gdf = gdf.to_crs(crs)\n",
    "    # Calculate bounds and resolution\n",
    "    bounds = gdf.total_bounds  # [minx, miny, maxx, maxy]\n",
    "\n",
    "    width = int((bounds[2] - bounds[0]) / resolution)\n",
    "    height = int((bounds[3] - bounds[1]) / resolution)\n",
    "    transform = rasterio.transform.from_origin(bounds[0], bounds[3], resolution, resolution)\n",
    "\n",
    "    # Rasterize using the field in 'field'\n",
    "    shapes = ((geom, int(value)) for geom, value in zip(gdf.geometry, gdf[field]))\n",
    "\n",
    "    with rasterio.open(\n",
    "        raster_path,\n",
    "        \"w\",\n",
    "        driver=\"GTiff\",\n",
    "        height=height,\n",
    "        width=width,\n",
    "        count=1,\n",
    "        dtype=\"int32\",\n",
    "        crs=gdf.crs,\n",
    "        transform=transform,\n",
    "        nodata=0\n",
    "    ) as dst:\n",
    "        raster = rasterize(\n",
    "            shapes=shapes,\n",
    "            out_shape=(height, width),\n",
    "            fill=0,\n",
    "            transform=transform,\n",
    "            dtype=\"int32\"\n",
    "        )\n",
    "        dst.write(raster, 1)"
   ]
  },
  {
   "cell_type": "markdown",
   "id": "9b2b697e",
   "metadata": {},
   "source": [
    "## Load AOI \n",
    "Load precise municipal boundary of Bologna from local GeoJSON<br/>\n",
    "Required for spatial clipping of all datasets\n"
   ]
  },
  {
   "cell_type": "code",
   "execution_count": 142,
   "id": "e7830ef6",
   "metadata": {},
   "outputs": [
    {
     "data": {
      "text/html": [
       "\n",
       "            <style>\n",
       "                .geemap-dark {\n",
       "                    --jp-widgets-color: white;\n",
       "                    --jp-widgets-label-color: white;\n",
       "                    --jp-ui-font-color1: white;\n",
       "                    --jp-layout-color2: #454545;\n",
       "                    background-color: #383838;\n",
       "                }\n",
       "\n",
       "                .geemap-dark .jupyter-button {\n",
       "                    --jp-layout-color3: #383838;\n",
       "                }\n",
       "\n",
       "                .geemap-colab {\n",
       "                    background-color: var(--colab-primary-surface-color, white);\n",
       "                }\n",
       "\n",
       "                .geemap-colab .jupyter-button {\n",
       "                    --jp-layout-color3: var(--colab-primary-surface-color, white);\n",
       "                }\n",
       "            </style>\n",
       "            "
      ],
      "text/plain": [
       "<IPython.core.display.HTML object>"
      ]
     },
     "metadata": {},
     "output_type": "display_data"
    }
   ],
   "source": [
    "collectdata = False\n",
    "gdf_boundary = gpd.read_file(BOUNDARY).to_crs(\"EPSG:4326\")\n",
    "boundary_geom = None"
   ]
  },
  {
   "cell_type": "code",
   "execution_count": 143,
   "id": "1bc17d11",
   "metadata": {},
   "outputs": [
    {
     "data": {
      "text/html": [
       "\n",
       "            <style>\n",
       "                .geemap-dark {\n",
       "                    --jp-widgets-color: white;\n",
       "                    --jp-widgets-label-color: white;\n",
       "                    --jp-ui-font-color1: white;\n",
       "                    --jp-layout-color2: #454545;\n",
       "                    background-color: #383838;\n",
       "                }\n",
       "\n",
       "                .geemap-dark .jupyter-button {\n",
       "                    --jp-layout-color3: #383838;\n",
       "                }\n",
       "\n",
       "                .geemap-colab {\n",
       "                    background-color: var(--colab-primary-surface-color, white);\n",
       "                }\n",
       "\n",
       "                .geemap-colab .jupyter-button {\n",
       "                    --jp-layout-color3: var(--colab-primary-surface-color, white);\n",
       "                }\n",
       "            </style>\n",
       "            "
      ],
      "text/plain": [
       "<IPython.core.display.HTML object>"
      ]
     },
     "metadata": {},
     "output_type": "display_data"
    }
   ],
   "source": [
    "def initialize_gee(gdf_boundary):\n",
    "    if not ee.data._credentials:\n",
    "        try:\n",
    "            ee.Authenticate()\n",
    "            ee.Initialize(project=GEPROJECT)\n",
    "            fc = geemap.geopandas_to_ee(gdf_boundary)\n",
    "            boundary_geom = fc.geometry()\n",
    "        except Exception as e:\n",
    "            print(f\"I can't initialize GEE: {e}\")\n",
    "            return None"
   ]
  },
  {
   "cell_type": "markdown",
   "id": "d7cb9de6",
   "metadata": {},
   "source": [
    "# Data Preparation\n",
    "## Extract data from Google Earth Engine\n"
   ]
  },
  {
   "cell_type": "markdown",
   "id": "c925ad40",
   "metadata": {},
   "source": [
    "\n",
    "## Retrieve MODIS LST (Day/Night) from MOD11A1 – Summer 2024 \n",
    "MODIS Terra (MOD11A1) provides daily 1 km LST for day and night<br/>\n",
    "We'll calculate the difference between day and night to assess heat retention\n",
    "## Classify ΔLST Day-Night \n",
    "Δ LST Day-Night (deciles)\n",
    "This indicator measures the difference in surface temperature between day and night.\n",
    "It is divided into 10 classes (deciles), from lowest (class 1) to highest (class 10) temperature drop.\n",
    "- Class 1: Very low Δ → the area retains heat during the night (critical for thermal stress).\n",
    "- Class 10: Very high Δ → the area cools down effectively at night.\n",
    "<br/>\n",
    "This scale helps identify urban zones at risk due to poor nighttime heat dissipation."
   ]
  },
  {
   "cell_type": "code",
   "execution_count": 144,
   "id": "425aa326",
   "metadata": {},
   "outputs": [
    {
     "data": {
      "text/html": [
       "\n",
       "            <style>\n",
       "                .geemap-dark {\n",
       "                    --jp-widgets-color: white;\n",
       "                    --jp-widgets-label-color: white;\n",
       "                    --jp-ui-font-color1: white;\n",
       "                    --jp-layout-color2: #454545;\n",
       "                    background-color: #383838;\n",
       "                }\n",
       "\n",
       "                .geemap-dark .jupyter-button {\n",
       "                    --jp-layout-color3: #383838;\n",
       "                }\n",
       "\n",
       "                .geemap-colab {\n",
       "                    background-color: var(--colab-primary-surface-color, white);\n",
       "                }\n",
       "\n",
       "                .geemap-colab .jupyter-button {\n",
       "                    --jp-layout-color3: var(--colab-primary-surface-color, white);\n",
       "                }\n",
       "            </style>\n",
       "            "
      ],
      "text/plain": [
       "<IPython.core.display.HTML object>"
      ]
     },
     "metadata": {},
     "output_type": "display_data"
    }
   ],
   "source": [
    "if not os.path.exists(DATADIR + os.sep + 'delta_lst_class.tif'):\n",
    "    initialize_gee(gdf_boundary)\n",
    "    modis = ee.ImageCollection(\"MODIS/061/MOD11A1\") \\\n",
    "    .filterBounds(boundary_geom) \\\n",
    "    .filterDate(YEAR+\"-06-01\", YEAR+\"-08-31\")\n",
    "    lst_day_modis = modis.select(\"LST_Day_1km\").mean().multiply(0.02).subtract(273.15).rename(\"LST_Day\")\n",
    "    lst_night_modis = modis.select(\"LST_Night_1km\").mean().multiply(0.02).subtract(273.15).rename(\"LST_Night\")\n",
    "    delta_lst = lst_day_modis.subtract(lst_night_modis).rename(\"DeltaLST\")\n",
    "    geemap.ee_export_image(delta_lst.clip(boundary_geom), filename=DATADIR + os.sep + 'delta_lst.tif', scale=1000, region=boundary_geom)\n",
    "    raster_to_geojson(DATADIR + os.sep + 'delta_lst.tif', DATADIR + os.sep + 'delta_lst.geojson',ingdf_boundary=gdf_boundary, dissolve=False)\n",
    "    delta_lst = gpd.read_file(DATADIR + os.sep + 'delta_lst.geojson')\n",
    "    delta_lst[\"class\"] = pd.qcut(pd.to_numeric(delta_lst[\"value\"], errors=\"coerce\"), 10, labels=False)\n",
    "    delta_lst.to_file(DATADIR + os.sep + 'delta_lst_class.geojson', driver='GeoJSON')\n",
    "    delta_lst['class'] = delta_lst['class']+1\n",
    "    geojson_to_raster(delta_lst, DATADIR + os.sep + 'delta_lst_class.tif', field='class')\n",
    "    geemap.ee_export_image(lst_day_modis.clip(boundary_geom), filename=DATADIR + os.sep + 'lst_day_modis.tif', scale=1000, region=boundary_geom)\n",
    "    raster_to_geojson(DATADIR + os.sep + 'lst_day_modis.tif', DATADIR + os.sep + 'lst_day_modis.geojson',ingdf_boundary=gdf_boundary, dissolve=True)\n",
    "    delta_lst = gpd.read_file(DATADIR + os.sep + 'delta_lst.geojson')\n",
    "    geemap.ee_export_image(lst_night_modis.clip(boundary_geom), filename=DATADIR + os.sep + 'lst_night_modis.tif', scale=1000, region=boundary_geom)\n",
    "    raster_to_geojson(DATADIR + os.sep + 'lst_night_modis.tif', DATADIR + os.sep + 'lst_night_modis.geojson',ingdf_boundary=gdf_boundary, dissolve=True)\n",
    "    delta_lst = gpd.read_file(DATADIR + os.sep + 'delta_lst.geojson')\n"
   ]
  },
  {
   "cell_type": "markdown",
   "id": "e5a934fd",
   "metadata": {},
   "source": [
    "# Calculate Urban Heat Exposure Index (UHEI): LST + (1-NDVI) + (1-Albedo)\n",
    "- This composite score highlights areas with high temperature, low vegetation, and low albedo\n",
    "- Normalization ranges: LST (30–50°C), NDVI (0–0.8), Albedo (0.05–0.35)\n",
    "- Higher UHEI → higher exposure to urban heat conditions\n",
    "## Retrieve Landsat 8/9 Collection 2 L2 imagery (summer 2024) \n",
    "- Purpose: estimate Land Surface Temperature (LST) from band ST_B10\n",
    "- LST will be used as baseline to analyze surface thermal variability\n",
    "### Calculate LST Z-score\n",
    "- Identify statistical anomalies in LST relative to the city's average\n",
    "- Z = (pixel - mean) / std_dev\n",
    "### Classify LST Z-score into 10 classes (5 below, 5 above average) \n",
    "This helps in highlighting both cool and hot zones relative to the norm"
   ]
  },
  {
   "cell_type": "code",
   "execution_count": 145,
   "id": "e8f71797",
   "metadata": {},
   "outputs": [
    {
     "data": {
      "text/html": [
       "\n",
       "            <style>\n",
       "                .geemap-dark {\n",
       "                    --jp-widgets-color: white;\n",
       "                    --jp-widgets-label-color: white;\n",
       "                    --jp-ui-font-color1: white;\n",
       "                    --jp-layout-color2: #454545;\n",
       "                    background-color: #383838;\n",
       "                }\n",
       "\n",
       "                .geemap-dark .jupyter-button {\n",
       "                    --jp-layout-color3: #383838;\n",
       "                }\n",
       "\n",
       "                .geemap-colab {\n",
       "                    background-color: var(--colab-primary-surface-color, white);\n",
       "                }\n",
       "\n",
       "                .geemap-colab .jupyter-button {\n",
       "                    --jp-layout-color3: var(--colab-primary-surface-color, white);\n",
       "                }\n",
       "            </style>\n",
       "            "
      ],
      "text/plain": [
       "<IPython.core.display.HTML object>"
      ]
     },
     "metadata": {},
     "output_type": "display_data"
    }
   ],
   "source": [
    "if not os.path.exists(DATADIR + os.sep + 'lst_mean.tif'):\n",
    "    initialize_gee(gdf_boundary)\n",
    "    collection = (ee.ImageCollection(\"LANDSAT/LC08/C02/T1_L2\")\n",
    "        .filterBounds(boundary_geom)\n",
    "        .filterDate(YEAR+\"-06-01\", YEAR+\"-08-31\")\n",
    "        .filter(ee.Filter.lt(\"CLOUD_COVER\", 10))\n",
    "        .map(kelvin_to_celsius))\n",
    "    lst_mean = collection.mean().clip(boundary_geom)\n",
    "    mean_dict = lst_mean.reduceRegion(reducer=ee.Reducer.mean(), geometry=boundary_geom, scale=100, maxPixels=1e13)\n",
    "    std_dict = lst_mean.reduceRegion(reducer=ee.Reducer.stdDev(), geometry=boundary_geom, scale=100, maxPixels=1e13)\n",
    "    mean_val = ee.Number(mean_dict.get(\"LST\"))\n",
    "    std_val = ee.Number(std_dict.get(\"LST\"))\n",
    "    z_score = lst_mean.subtract(mean_val).divide(std_val).rename(\"Z\")\n",
    "    classified = z_score.expression(\"(z <= -2.0) ? 1 : (z <= -1.5) ? 2 : (z <= -1.0) ? 3 : (z <= -0.5) ? 4 : \" +\n",
    "                                        \"(z < 0) ? 5 : (z < 0.5) ? 6 : (z < 1.0) ? 7 : (z < 1.5) ? 8 : (z < 2.0) ? 9 : 10\", {\"z\": z_score}).rename(\"Z_class\")\n",
    "    geemap.ee_export_image(lst_mean.clip(boundary_geom), filename=DATADIR + os.sep + 'lst_mean.tif', scale=100, region=boundary_geom)\n",
    "    raster_to_geojson(DATADIR + os.sep + 'lst_mean.tif', DATADIR + os.sep + 'lst_mean.geojson',ingdf_boundary=gdf_boundary,dissolve=True)\n",
    "    geemap.ee_export_image(z_score.clip(boundary_geom), filename=DATADIR + os.sep + 'z_score.tif', scale=100, region=boundary_geom)\n",
    "    raster_to_geojson(DATADIR + os.sep + 'z_score.tif', DATADIR + os.sep + 'z_score.geojson',ingdf_boundary=gdf_boundary,dissolve=True)\n",
    "    geemap.ee_export_image(classified.clip(boundary_geom), filename=DATADIR + os.sep + 'z_score_class.tif', scale=100, region=boundary_geom)\n",
    "    raster_to_geojson(DATADIR + os.sep + 'z_score_class.tif', DATADIR + os.sep + 'z_score_class.geojson',ingdf_boundary=gdf_boundary,dissolve=True)\n",
    "    \n",
    "    \n"
   ]
  },
  {
   "cell_type": "markdown",
   "id": "6ccc243f",
   "metadata": {},
   "source": [
    "##  Compute NDVI (Normalized Difference Vegetation Index) \n",
    "NDVI = (NIR - Red) / (NIR + Red)<br/>\n",
    "Derived from Surface Reflectance bands B5 (NIR) and B4 (Red)<br/>\n",
    "NDVI is used to identify vegetated vs built-up areas\n",
    "### Compute Albedo using Liang (2001) method\n",
    "Albedo is calculated using a weighted sum of Surface Reflectance bands<br>\n",
    "Equation adapted for Landsat 8: B2, B4, B5, B6, B7<br>\n",
    "Result: surface reflectance from 0 (fully absorbent) to 1 (fully reflective)\n",
    "### Normalize LST, NDVI, and Albedo \n",
    "- Normalize LST (30–50°C), NDVI (0–0.8), Albedo (0.05–0.35) to [0, 1] range\n",
    "- Needed for consistent index construction\n",
    "### Compute Heat-Vegetation Index \n",
    "High value = hot and poorly vegetated → risk of UHI\n",
    "### Compute Heat Retention Index\n",
    "High value = hot and low albedo → likely to retain heat during night\n",
    "### Urban Heat Exposure Index (UHEI)\n",
    "High value = hot, poorly vegetated, and low reflectivity → highest exposure to urban heat risk\n"
   ]
  },
  {
   "cell_type": "code",
   "execution_count": 146,
   "id": "ed29920b",
   "metadata": {},
   "outputs": [
    {
     "data": {
      "text/html": [
       "\n",
       "            <style>\n",
       "                .geemap-dark {\n",
       "                    --jp-widgets-color: white;\n",
       "                    --jp-widgets-label-color: white;\n",
       "                    --jp-ui-font-color1: white;\n",
       "                    --jp-layout-color2: #454545;\n",
       "                    background-color: #383838;\n",
       "                }\n",
       "\n",
       "                .geemap-dark .jupyter-button {\n",
       "                    --jp-layout-color3: #383838;\n",
       "                }\n",
       "\n",
       "                .geemap-colab {\n",
       "                    background-color: var(--colab-primary-surface-color, white);\n",
       "                }\n",
       "\n",
       "                .geemap-colab .jupyter-button {\n",
       "                    --jp-layout-color3: var(--colab-primary-surface-color, white);\n",
       "                }\n",
       "            </style>\n",
       "            "
      ],
      "text/plain": [
       "<IPython.core.display.HTML object>"
      ]
     },
     "metadata": {},
     "output_type": "display_data"
    }
   ],
   "source": [
    "if not os.path.exists(DATADIR + os.sep + 'ndvi_mean.tif'):\n",
    "    ndvi_collection = (ee.ImageCollection(\"LANDSAT/LC08/C02/T1_L2\")\n",
    "        .filterBounds(boundary_geom)\n",
    "        .filterDate(YEAR+\"-06-01\", YEAR+\"-08-31\")\n",
    "        .filter(ee.Filter.lt(\"CLOUD_COVER\", 10))\n",
    "        .map(compute_ndvi))\n",
    "\n",
    "    ndvi_mean = ndvi_collection.select(\"NDVI\").mean().clip(boundary_geom)\n",
    "    albedo_collection = ndvi_collection.map(compute_albedo)\n",
    "    albedo_mean = albedo_collection.select(\"Albedo\").mean().clip(boundary_geom)\n",
    "    lst_norm = lst_mean.unitScale(30, 50).rename(\"LST_norm\")\n",
    "    ndvi_norm = ndvi_mean.unitScale(0, 0.8).rename(\"NDVI_norm\")\n",
    "    albedo_norm = albedo_mean.unitScale(0.05, 0.35).rename(\"Albedo_norm\")\n",
    "    \n",
    "    heat_veg_index = lst_norm.subtract(ndvi_norm).rename(\"HeatVegIndex\")\n",
    "    heat_retention_index = lst_norm.subtract(albedo_norm).rename(\"HeatRetentionIndex\")\n",
    "    \n",
    "\n",
    "    uhe_index = lst_norm.add(ee.Image(1).subtract(ndvi_norm)) \\\n",
    "                      .add(ee.Image(1).subtract(albedo_norm)) \\\n",
    "                      .rename(\"UrbanHeatExposureIndex\")\n",
    "\n",
    "    geemap.ee_export_image(ndvi_mean.clip(boundary_geom), filename=DATADIR + os.sep + 'ndvi_mean.tif', scale=30, region=boundary_geom)\n",
    "    raster_to_geojson(DATADIR + os.sep + 'ndvi_mean.tif', DATADIR + os.sep + 'ndvi_mean.geojson',ingdf_boundary=gdf_boundary,dissolve=True)\n",
    "    geemap.ee_export_image(albedo_mean.clip(boundary_geom), filename=DATADIR + os.sep + 'albedo_mean.tif', scale=30, region=boundary_geom)\n",
    "    raster_to_geojson(DATADIR + os.sep + 'albedo_mean.tif', DATADIR + os.sep + 'albedo_mean.geojson',ingdf_boundary=gdf_boundary,dissolve=True)\n",
    "    geemap.ee_export_image(heat_veg_index.clip(boundary_geom), filename=DATADIR + os.sep + 'heat_veg_index.tif', scale=100, region=boundary_geom)\n",
    "    raster_to_geojson(DATADIR + os.sep + 'heat_veg_index.tif', DATADIR + os.sep + 'heat_veg_index.geojson',ingdf_boundary=gdf_boundary,dissolve=True)\n",
    "    geemap.ee_export_image(heat_retention_index.clip(boundary_geom), filename=DATADIR + os.sep + 'heat_retention_index.tif', scale=100, region=boundary_geom)\n",
    "    raster_to_geojson(DATADIR + os.sep + 'heat_retention_index.tif', DATADIR + os.sep + 'heat_retention_index.geojson',ingdf_boundary=gdf_boundary,dissolve=True)\n",
    "    geemap.ee_export_image(uhe_index.clip(boundary_geom), filename=DATADIR + os.sep + 'urban_heat_exposure_index.tif', scale=100, region=boundary_geom)\n",
    "    raster_to_geojson(DATADIR + os.sep + 'urban_heat_exposure_index.tif', DATADIR + os.sep + 'urban_heat_exposure_index.geojson',ingdf_boundary=gdf_boundary,dissolve=True)\n",
    "    geemap.ee_export_image(uhe_index.clip(boundary_geom), filename=DATADIR + os.sep + 'urban_heat_exposure_index.tif', scale=100, region=boundary_geom)\n",
    "    raster_to_geojson(DATADIR + os.sep + 'urban_heat_exposure_index.tif', DATADIR + os.sep + 'urban_heat_exposure_index.geojson',ingdf_boundary=gdf_boundary,dissolve=True)\n",
    "    geemap.ee_export_image(heat_retention_index.clip(boundary_geom), filename=DATADIR + os.sep + 'heat_retention_index.tif', scale=100, region=boundary_geom)\n",
    "    raster_to_geojson(DATADIR + os.sep + 'heat_retention_index.tif', DATADIR + os.sep + 'heat_retention_index.geojson',ingdf_boundary=gdf_boundary,dissolve=True)\n"
   ]
  }
 ],
 "metadata": {
  "kernelspec": {
   "display_name": "Python 3",
   "language": "python",
   "name": "python3"
  },
  "language_info": {
   "codemirror_mode": {
    "name": "ipython",
    "version": 3
   },
   "file_extension": ".py",
   "mimetype": "text/x-python",
   "name": "python",
   "nbconvert_exporter": "python",
   "pygments_lexer": "ipython3",
   "version": "3.13.3"
  }
 },
 "nbformat": 4,
 "nbformat_minor": 5
}
